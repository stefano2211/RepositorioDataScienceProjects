{
  "nbformat": 4,
  "nbformat_minor": 0,
  "metadata": {
    "colab": {
      "provenance": [],
      "authorship_tag": "ABX9TyNA0jtrn0Abn+2J55CsS83l",
      "include_colab_link": true
    },
    "kernelspec": {
      "name": "python3",
      "display_name": "Python 3"
    },
    "language_info": {
      "name": "python"
    }
  },
  "cells": [
    {
      "cell_type": "markdown",
      "metadata": {
        "id": "view-in-github",
        "colab_type": "text"
      },
      "source": [
        "<a href=\"https://colab.research.google.com/github/stefano2211/RepositorioDataScience/blob/main/KingLeagueModelPredictionTweets.ipynb\" target=\"_parent\"><img src=\"https://colab.research.google.com/assets/colab-badge.svg\" alt=\"Open In Colab\"/></a>"
      ]
    },
    {
      "cell_type": "code",
      "execution_count": 36,
      "metadata": {
        "id": "N3Q1u-ejv8vo"
      },
      "outputs": [],
      "source": [
        "import snscrape.modules.twitter as sntwitter\n",
        "from sklearn.feature_extraction.text import CountVectorizer\n",
        "import neattext as nt\n",
        "import nltk\n",
        "from nltk.corpus import stopwords\n",
        "from nltk.tokenize import word_tokenize\n",
        "import re\n",
        "import numpy as np\n",
        "import pandas as pd\n",
        "import matplotlib.pyplot as plt\n",
        "import seaborn as sns\n",
        "import plotly.express as px\n",
        "from google.colab import files\n",
        "import io"
      ]
    },
    {
      "cell_type": "code",
      "source": [
        "nltk.download('stopwords')"
      ],
      "metadata": {
        "colab": {
          "base_uri": "https://localhost:8080/"
        },
        "id": "8bEcSf-NDUcl",
        "outputId": "cd50a91d-4ac2-4ca9-e9a6-74a5df4878c3"
      },
      "execution_count": 37,
      "outputs": [
        {
          "output_type": "stream",
          "name": "stderr",
          "text": [
            "[nltk_data] Downloading package stopwords to /root/nltk_data...\n",
            "[nltk_data]   Package stopwords is already up-to-date!\n"
          ]
        },
        {
          "output_type": "execute_result",
          "data": {
            "text/plain": [
              "True"
            ]
          },
          "metadata": {},
          "execution_count": 37
        }
      ]
    },
    {
      "cell_type": "markdown",
      "source": [
        "#Analisis de los datos"
      ],
      "metadata": {
        "id": "zRC7QPUjUQl9"
      }
    },
    {
      "cell_type": "code",
      "source": [
        "df = pd.read_csv('KingsLeagueData.csv')"
      ],
      "metadata": {
        "id": "PvETotuNx4tu"
      },
      "execution_count": 38,
      "outputs": []
    },
    {
      "cell_type": "code",
      "source": [
        "df.head()"
      ],
      "metadata": {
        "colab": {
          "base_uri": "https://localhost:8080/",
          "height": 206
        },
        "id": "g2KtdEsVzLl4",
        "outputId": "837fa215-7791-4eaa-8f0d-ab3b85e4a1d5"
      },
      "execution_count": 39,
      "outputs": [
        {
          "output_type": "execute_result",
          "data": {
            "text/plain": [
              "   Unnamed: 0                       Date  \\\n",
              "0           0  2023-02-18 20:17:36+00:00   \n",
              "1           1  2023-02-18 20:17:02+00:00   \n",
              "2           2  2023-02-18 20:15:26+00:00   \n",
              "3           3  2023-02-18 20:13:58+00:00   \n",
              "4           4  2023-02-18 20:13:00+00:00   \n",
              "\n",
              "                                               Tweet  Subjectivity  Polarity  \\\n",
              "0  aldamoooon KingsLeague gerardpique Spursito Ik...      0.000000  0.000000   \n",
              "1  KingsLeague PorcinosFC kfutbolclub gerardpique...      0.166667  0.000000   \n",
              "2  adanilo KingsLeague gerardpique Spursito IkerC...      0.066667 -0.166667   \n",
              "3  UltMostoles Juanmaglez iangonzalezzz ArcheAlva...      0.000000  0.000000   \n",
              "4  UltMostoles JijantesFC KingsLeague Primera win...      0.366667  0.525000   \n",
              "\n",
              "   Analysis  \n",
              "0   Neutral  \n",
              "1   Neutral  \n",
              "2  Negative  \n",
              "3   Neutral  \n",
              "4  Positive  "
            ],
            "text/html": [
              "\n",
              "  <div id=\"df-efc2a3b9-c1fa-4206-84d0-c7c5799a7043\">\n",
              "    <div class=\"colab-df-container\">\n",
              "      <div>\n",
              "<style scoped>\n",
              "    .dataframe tbody tr th:only-of-type {\n",
              "        vertical-align: middle;\n",
              "    }\n",
              "\n",
              "    .dataframe tbody tr th {\n",
              "        vertical-align: top;\n",
              "    }\n",
              "\n",
              "    .dataframe thead th {\n",
              "        text-align: right;\n",
              "    }\n",
              "</style>\n",
              "<table border=\"1\" class=\"dataframe\">\n",
              "  <thead>\n",
              "    <tr style=\"text-align: right;\">\n",
              "      <th></th>\n",
              "      <th>Unnamed: 0</th>\n",
              "      <th>Date</th>\n",
              "      <th>Tweet</th>\n",
              "      <th>Subjectivity</th>\n",
              "      <th>Polarity</th>\n",
              "      <th>Analysis</th>\n",
              "    </tr>\n",
              "  </thead>\n",
              "  <tbody>\n",
              "    <tr>\n",
              "      <th>0</th>\n",
              "      <td>0</td>\n",
              "      <td>2023-02-18 20:17:36+00:00</td>\n",
              "      <td>aldamoooon KingsLeague gerardpique Spursito Ik...</td>\n",
              "      <td>0.000000</td>\n",
              "      <td>0.000000</td>\n",
              "      <td>Neutral</td>\n",
              "    </tr>\n",
              "    <tr>\n",
              "      <th>1</th>\n",
              "      <td>1</td>\n",
              "      <td>2023-02-18 20:17:02+00:00</td>\n",
              "      <td>KingsLeague PorcinosFC kfutbolclub gerardpique...</td>\n",
              "      <td>0.166667</td>\n",
              "      <td>0.000000</td>\n",
              "      <td>Neutral</td>\n",
              "    </tr>\n",
              "    <tr>\n",
              "      <th>2</th>\n",
              "      <td>2</td>\n",
              "      <td>2023-02-18 20:15:26+00:00</td>\n",
              "      <td>adanilo KingsLeague gerardpique Spursito IkerC...</td>\n",
              "      <td>0.066667</td>\n",
              "      <td>-0.166667</td>\n",
              "      <td>Negative</td>\n",
              "    </tr>\n",
              "    <tr>\n",
              "      <th>3</th>\n",
              "      <td>3</td>\n",
              "      <td>2023-02-18 20:13:58+00:00</td>\n",
              "      <td>UltMostoles Juanmaglez iangonzalezzz ArcheAlva...</td>\n",
              "      <td>0.000000</td>\n",
              "      <td>0.000000</td>\n",
              "      <td>Neutral</td>\n",
              "    </tr>\n",
              "    <tr>\n",
              "      <th>4</th>\n",
              "      <td>4</td>\n",
              "      <td>2023-02-18 20:13:00+00:00</td>\n",
              "      <td>UltMostoles JijantesFC KingsLeague Primera win...</td>\n",
              "      <td>0.366667</td>\n",
              "      <td>0.525000</td>\n",
              "      <td>Positive</td>\n",
              "    </tr>\n",
              "  </tbody>\n",
              "</table>\n",
              "</div>\n",
              "      <button class=\"colab-df-convert\" onclick=\"convertToInteractive('df-efc2a3b9-c1fa-4206-84d0-c7c5799a7043')\"\n",
              "              title=\"Convert this dataframe to an interactive table.\"\n",
              "              style=\"display:none;\">\n",
              "        \n",
              "  <svg xmlns=\"http://www.w3.org/2000/svg\" height=\"24px\"viewBox=\"0 0 24 24\"\n",
              "       width=\"24px\">\n",
              "    <path d=\"M0 0h24v24H0V0z\" fill=\"none\"/>\n",
              "    <path d=\"M18.56 5.44l.94 2.06.94-2.06 2.06-.94-2.06-.94-.94-2.06-.94 2.06-2.06.94zm-11 1L8.5 8.5l.94-2.06 2.06-.94-2.06-.94L8.5 2.5l-.94 2.06-2.06.94zm10 10l.94 2.06.94-2.06 2.06-.94-2.06-.94-.94-2.06-.94 2.06-2.06.94z\"/><path d=\"M17.41 7.96l-1.37-1.37c-.4-.4-.92-.59-1.43-.59-.52 0-1.04.2-1.43.59L10.3 9.45l-7.72 7.72c-.78.78-.78 2.05 0 2.83L4 21.41c.39.39.9.59 1.41.59.51 0 1.02-.2 1.41-.59l7.78-7.78 2.81-2.81c.8-.78.8-2.07 0-2.86zM5.41 20L4 18.59l7.72-7.72 1.47 1.35L5.41 20z\"/>\n",
              "  </svg>\n",
              "      </button>\n",
              "      \n",
              "  <style>\n",
              "    .colab-df-container {\n",
              "      display:flex;\n",
              "      flex-wrap:wrap;\n",
              "      gap: 12px;\n",
              "    }\n",
              "\n",
              "    .colab-df-convert {\n",
              "      background-color: #E8F0FE;\n",
              "      border: none;\n",
              "      border-radius: 50%;\n",
              "      cursor: pointer;\n",
              "      display: none;\n",
              "      fill: #1967D2;\n",
              "      height: 32px;\n",
              "      padding: 0 0 0 0;\n",
              "      width: 32px;\n",
              "    }\n",
              "\n",
              "    .colab-df-convert:hover {\n",
              "      background-color: #E2EBFA;\n",
              "      box-shadow: 0px 1px 2px rgba(60, 64, 67, 0.3), 0px 1px 3px 1px rgba(60, 64, 67, 0.15);\n",
              "      fill: #174EA6;\n",
              "    }\n",
              "\n",
              "    [theme=dark] .colab-df-convert {\n",
              "      background-color: #3B4455;\n",
              "      fill: #D2E3FC;\n",
              "    }\n",
              "\n",
              "    [theme=dark] .colab-df-convert:hover {\n",
              "      background-color: #434B5C;\n",
              "      box-shadow: 0px 1px 3px 1px rgba(0, 0, 0, 0.15);\n",
              "      filter: drop-shadow(0px 1px 2px rgba(0, 0, 0, 0.3));\n",
              "      fill: #FFFFFF;\n",
              "    }\n",
              "  </style>\n",
              "\n",
              "      <script>\n",
              "        const buttonEl =\n",
              "          document.querySelector('#df-efc2a3b9-c1fa-4206-84d0-c7c5799a7043 button.colab-df-convert');\n",
              "        buttonEl.style.display =\n",
              "          google.colab.kernel.accessAllowed ? 'block' : 'none';\n",
              "\n",
              "        async function convertToInteractive(key) {\n",
              "          const element = document.querySelector('#df-efc2a3b9-c1fa-4206-84d0-c7c5799a7043');\n",
              "          const dataTable =\n",
              "            await google.colab.kernel.invokeFunction('convertToInteractive',\n",
              "                                                     [key], {});\n",
              "          if (!dataTable) return;\n",
              "\n",
              "          const docLinkHtml = 'Like what you see? Visit the ' +\n",
              "            '<a target=\"_blank\" href=https://colab.research.google.com/notebooks/data_table.ipynb>data table notebook</a>'\n",
              "            + ' to learn more about interactive tables.';\n",
              "          element.innerHTML = '';\n",
              "          dataTable['output_type'] = 'display_data';\n",
              "          await google.colab.output.renderOutput(dataTable, element);\n",
              "          const docLink = document.createElement('div');\n",
              "          docLink.innerHTML = docLinkHtml;\n",
              "          element.appendChild(docLink);\n",
              "        }\n",
              "      </script>\n",
              "    </div>\n",
              "  </div>\n",
              "  "
            ]
          },
          "metadata": {},
          "execution_count": 39
        }
      ]
    },
    {
      "cell_type": "code",
      "source": [
        "df.drop(['Subjectivity', 'Polarity', 'Unnamed: 0'], axis=True)"
      ],
      "metadata": {
        "colab": {
          "base_uri": "https://localhost:8080/",
          "height": 424
        },
        "id": "yC8TOtLpzSuA",
        "outputId": "34e25b93-8deb-42d5-897b-2f237e2ced30"
      },
      "execution_count": 40,
      "outputs": [
        {
          "output_type": "execute_result",
          "data": {
            "text/plain": [
              "                           Date  \\\n",
              "0     2023-02-18 20:17:36+00:00   \n",
              "1     2023-02-18 20:17:02+00:00   \n",
              "2     2023-02-18 20:15:26+00:00   \n",
              "3     2023-02-18 20:13:58+00:00   \n",
              "4     2023-02-18 20:13:00+00:00   \n",
              "...                         ...   \n",
              "2995  2023-02-16 16:21:06+00:00   \n",
              "2996  2023-02-16 16:20:27+00:00   \n",
              "2997  2023-02-16 16:18:22+00:00   \n",
              "2998  2023-02-16 16:17:22+00:00   \n",
              "2999  2023-02-16 16:17:16+00:00   \n",
              "\n",
              "                                                  Tweet  Analysis  \n",
              "0     aldamoooon KingsLeague gerardpique Spursito Ik...   Neutral  \n",
              "1     KingsLeague PorcinosFC kfutbolclub gerardpique...   Neutral  \n",
              "2     adanilo KingsLeague gerardpique Spursito IkerC...  Negative  \n",
              "3     UltMostoles Juanmaglez iangonzalezzz ArcheAlva...   Neutral  \n",
              "4     UltMostoles JijantesFC KingsLeague Primera win...  Positive  \n",
              "...                                                 ...       ...  \n",
              "2995                       KingsLeague Beguer El Barrio   Neutral  \n",
              "2996           KingsLeague El ms grande de la historia    Neutral  \n",
              "2997            KingsLeague Solo han ganado un partido   Negative  \n",
              "2998                     KingsLeague Me gusta revelarme   Neutral  \n",
              "2999                              KingsLeague Venezuela   Neutral  \n",
              "\n",
              "[3000 rows x 3 columns]"
            ],
            "text/html": [
              "\n",
              "  <div id=\"df-d34a399d-48c3-4910-a723-ca04013d1944\">\n",
              "    <div class=\"colab-df-container\">\n",
              "      <div>\n",
              "<style scoped>\n",
              "    .dataframe tbody tr th:only-of-type {\n",
              "        vertical-align: middle;\n",
              "    }\n",
              "\n",
              "    .dataframe tbody tr th {\n",
              "        vertical-align: top;\n",
              "    }\n",
              "\n",
              "    .dataframe thead th {\n",
              "        text-align: right;\n",
              "    }\n",
              "</style>\n",
              "<table border=\"1\" class=\"dataframe\">\n",
              "  <thead>\n",
              "    <tr style=\"text-align: right;\">\n",
              "      <th></th>\n",
              "      <th>Date</th>\n",
              "      <th>Tweet</th>\n",
              "      <th>Analysis</th>\n",
              "    </tr>\n",
              "  </thead>\n",
              "  <tbody>\n",
              "    <tr>\n",
              "      <th>0</th>\n",
              "      <td>2023-02-18 20:17:36+00:00</td>\n",
              "      <td>aldamoooon KingsLeague gerardpique Spursito Ik...</td>\n",
              "      <td>Neutral</td>\n",
              "    </tr>\n",
              "    <tr>\n",
              "      <th>1</th>\n",
              "      <td>2023-02-18 20:17:02+00:00</td>\n",
              "      <td>KingsLeague PorcinosFC kfutbolclub gerardpique...</td>\n",
              "      <td>Neutral</td>\n",
              "    </tr>\n",
              "    <tr>\n",
              "      <th>2</th>\n",
              "      <td>2023-02-18 20:15:26+00:00</td>\n",
              "      <td>adanilo KingsLeague gerardpique Spursito IkerC...</td>\n",
              "      <td>Negative</td>\n",
              "    </tr>\n",
              "    <tr>\n",
              "      <th>3</th>\n",
              "      <td>2023-02-18 20:13:58+00:00</td>\n",
              "      <td>UltMostoles Juanmaglez iangonzalezzz ArcheAlva...</td>\n",
              "      <td>Neutral</td>\n",
              "    </tr>\n",
              "    <tr>\n",
              "      <th>4</th>\n",
              "      <td>2023-02-18 20:13:00+00:00</td>\n",
              "      <td>UltMostoles JijantesFC KingsLeague Primera win...</td>\n",
              "      <td>Positive</td>\n",
              "    </tr>\n",
              "    <tr>\n",
              "      <th>...</th>\n",
              "      <td>...</td>\n",
              "      <td>...</td>\n",
              "      <td>...</td>\n",
              "    </tr>\n",
              "    <tr>\n",
              "      <th>2995</th>\n",
              "      <td>2023-02-16 16:21:06+00:00</td>\n",
              "      <td>KingsLeague Beguer El Barrio</td>\n",
              "      <td>Neutral</td>\n",
              "    </tr>\n",
              "    <tr>\n",
              "      <th>2996</th>\n",
              "      <td>2023-02-16 16:20:27+00:00</td>\n",
              "      <td>KingsLeague El ms grande de la historia</td>\n",
              "      <td>Neutral</td>\n",
              "    </tr>\n",
              "    <tr>\n",
              "      <th>2997</th>\n",
              "      <td>2023-02-16 16:18:22+00:00</td>\n",
              "      <td>KingsLeague Solo han ganado un partido</td>\n",
              "      <td>Negative</td>\n",
              "    </tr>\n",
              "    <tr>\n",
              "      <th>2998</th>\n",
              "      <td>2023-02-16 16:17:22+00:00</td>\n",
              "      <td>KingsLeague Me gusta revelarme</td>\n",
              "      <td>Neutral</td>\n",
              "    </tr>\n",
              "    <tr>\n",
              "      <th>2999</th>\n",
              "      <td>2023-02-16 16:17:16+00:00</td>\n",
              "      <td>KingsLeague Venezuela</td>\n",
              "      <td>Neutral</td>\n",
              "    </tr>\n",
              "  </tbody>\n",
              "</table>\n",
              "<p>3000 rows × 3 columns</p>\n",
              "</div>\n",
              "      <button class=\"colab-df-convert\" onclick=\"convertToInteractive('df-d34a399d-48c3-4910-a723-ca04013d1944')\"\n",
              "              title=\"Convert this dataframe to an interactive table.\"\n",
              "              style=\"display:none;\">\n",
              "        \n",
              "  <svg xmlns=\"http://www.w3.org/2000/svg\" height=\"24px\"viewBox=\"0 0 24 24\"\n",
              "       width=\"24px\">\n",
              "    <path d=\"M0 0h24v24H0V0z\" fill=\"none\"/>\n",
              "    <path d=\"M18.56 5.44l.94 2.06.94-2.06 2.06-.94-2.06-.94-.94-2.06-.94 2.06-2.06.94zm-11 1L8.5 8.5l.94-2.06 2.06-.94-2.06-.94L8.5 2.5l-.94 2.06-2.06.94zm10 10l.94 2.06.94-2.06 2.06-.94-2.06-.94-.94-2.06-.94 2.06-2.06.94z\"/><path d=\"M17.41 7.96l-1.37-1.37c-.4-.4-.92-.59-1.43-.59-.52 0-1.04.2-1.43.59L10.3 9.45l-7.72 7.72c-.78.78-.78 2.05 0 2.83L4 21.41c.39.39.9.59 1.41.59.51 0 1.02-.2 1.41-.59l7.78-7.78 2.81-2.81c.8-.78.8-2.07 0-2.86zM5.41 20L4 18.59l7.72-7.72 1.47 1.35L5.41 20z\"/>\n",
              "  </svg>\n",
              "      </button>\n",
              "      \n",
              "  <style>\n",
              "    .colab-df-container {\n",
              "      display:flex;\n",
              "      flex-wrap:wrap;\n",
              "      gap: 12px;\n",
              "    }\n",
              "\n",
              "    .colab-df-convert {\n",
              "      background-color: #E8F0FE;\n",
              "      border: none;\n",
              "      border-radius: 50%;\n",
              "      cursor: pointer;\n",
              "      display: none;\n",
              "      fill: #1967D2;\n",
              "      height: 32px;\n",
              "      padding: 0 0 0 0;\n",
              "      width: 32px;\n",
              "    }\n",
              "\n",
              "    .colab-df-convert:hover {\n",
              "      background-color: #E2EBFA;\n",
              "      box-shadow: 0px 1px 2px rgba(60, 64, 67, 0.3), 0px 1px 3px 1px rgba(60, 64, 67, 0.15);\n",
              "      fill: #174EA6;\n",
              "    }\n",
              "\n",
              "    [theme=dark] .colab-df-convert {\n",
              "      background-color: #3B4455;\n",
              "      fill: #D2E3FC;\n",
              "    }\n",
              "\n",
              "    [theme=dark] .colab-df-convert:hover {\n",
              "      background-color: #434B5C;\n",
              "      box-shadow: 0px 1px 3px 1px rgba(0, 0, 0, 0.15);\n",
              "      filter: drop-shadow(0px 1px 2px rgba(0, 0, 0, 0.3));\n",
              "      fill: #FFFFFF;\n",
              "    }\n",
              "  </style>\n",
              "\n",
              "      <script>\n",
              "        const buttonEl =\n",
              "          document.querySelector('#df-d34a399d-48c3-4910-a723-ca04013d1944 button.colab-df-convert');\n",
              "        buttonEl.style.display =\n",
              "          google.colab.kernel.accessAllowed ? 'block' : 'none';\n",
              "\n",
              "        async function convertToInteractive(key) {\n",
              "          const element = document.querySelector('#df-d34a399d-48c3-4910-a723-ca04013d1944');\n",
              "          const dataTable =\n",
              "            await google.colab.kernel.invokeFunction('convertToInteractive',\n",
              "                                                     [key], {});\n",
              "          if (!dataTable) return;\n",
              "\n",
              "          const docLinkHtml = 'Like what you see? Visit the ' +\n",
              "            '<a target=\"_blank\" href=https://colab.research.google.com/notebooks/data_table.ipynb>data table notebook</a>'\n",
              "            + ' to learn more about interactive tables.';\n",
              "          element.innerHTML = '';\n",
              "          dataTable['output_type'] = 'display_data';\n",
              "          await google.colab.output.renderOutput(dataTable, element);\n",
              "          const docLink = document.createElement('div');\n",
              "          docLink.innerHTML = docLinkHtml;\n",
              "          element.appendChild(docLink);\n",
              "        }\n",
              "      </script>\n",
              "    </div>\n",
              "  </div>\n",
              "  "
            ]
          },
          "metadata": {},
          "execution_count": 40
        }
      ]
    },
    {
      "cell_type": "code",
      "source": [
        "#Quitamos las palabras que no aportan informacion\n",
        "def textdrop(text):\n",
        "\n",
        "  sw = stopwords.words('spanish')\n",
        "\n",
        "  text = [word.lower() for word in text.split() if word.lower() not in sw]\n",
        "\n",
        "  return \" \".join(text)"
      ],
      "metadata": {
        "id": "wP6veaKNDPyN"
      },
      "execution_count": 41,
      "outputs": []
    },
    {
      "cell_type": "code",
      "source": [
        "df['Tweet'] = df['Tweet'].apply(textdrop)"
      ],
      "metadata": {
        "id": "DdYCcTLZDcFV"
      },
      "execution_count": 42,
      "outputs": []
    },
    {
      "cell_type": "code",
      "source": [
        "#Contamos las clases a predecir \n",
        "df.Analysis.value_counts()"
      ],
      "metadata": {
        "colab": {
          "base_uri": "https://localhost:8080/"
        },
        "id": "aPIu5hjI1oQJ",
        "outputId": "279a9cda-046c-46f9-d8f1-eaf0d0887fee"
      },
      "execution_count": 43,
      "outputs": [
        {
          "output_type": "execute_result",
          "data": {
            "text/plain": [
              "Neutral     1871\n",
              "Positive     792\n",
              "Negative     337\n",
              "Name: Analysis, dtype: int64"
            ]
          },
          "metadata": {},
          "execution_count": 43
        }
      ]
    },
    {
      "cell_type": "markdown",
      "source": [
        "#Preprocesado de los datos"
      ],
      "metadata": {
        "id": "LvtLSKuOUUxH"
      }
    },
    {
      "cell_type": "code",
      "source": [
        "#Vectorizamos los tweets\n",
        "vector = CountVectorizer()\n",
        "vector.fit(df.Tweet)\n",
        "x = vector.transform(df.Tweet)"
      ],
      "metadata": {
        "id": "DM0qi4AlzohG"
      },
      "execution_count": 44,
      "outputs": []
    },
    {
      "cell_type": "code",
      "source": [
        "#Conversion de las clases str a int\n",
        "from sklearn import preprocessing\n",
        "\n",
        "encoder = preprocessing.LabelEncoder()\n",
        "df['Analysis'] = encoder.fit_transform(df['Analysis'])"
      ],
      "metadata": {
        "id": "yQUDbU9o1ziV"
      },
      "execution_count": 45,
      "outputs": []
    },
    {
      "cell_type": "code",
      "source": [
        "y = df.Analysis"
      ],
      "metadata": {
        "id": "mjs_9HrG0qGe"
      },
      "execution_count": 46,
      "outputs": []
    },
    {
      "cell_type": "markdown",
      "source": [
        "#Modelado"
      ],
      "metadata": {
        "id": "CipaYGCsUxsg"
      }
    },
    {
      "cell_type": "code",
      "source": [
        "#Balanceo de clases\n",
        "from imblearn.over_sampling import RandomOverSampler\n",
        "ros = RandomOverSampler(random_state=0)\n",
        "X_resampled, y_resampled = ros.fit_resample(x, y)"
      ],
      "metadata": {
        "id": "UVDbbT4E2vy7"
      },
      "execution_count": 47,
      "outputs": []
    },
    {
      "cell_type": "code",
      "source": [
        "from sklearn.model_selection import KFold\n",
        "from sklearn.model_selection import cross_val_score\n",
        "from sklearn.linear_model import LogisticRegression\n",
        "from sklearn.tree import DecisionTreeClassifier\n",
        "from sklearn.neighbors import KNeighborsClassifier\n",
        "from sklearn.metrics import cohen_kappa_score\n",
        "from sklearn.model_selection import train_test_split\n",
        "\n",
        "\n",
        "\n",
        "\n",
        "models = []\n",
        "models.append(('LoR', LogisticRegression(solver=\"lbfgs\", max_iter=1000)))\n",
        "models.append(('KNN', KNeighborsClassifier(n_neighbors=8)))\n",
        "models.append(('CAR', DecisionTreeClassifier(random_state=5)))\n",
        "\n",
        "\n",
        "\n",
        "\n",
        "results = []\n",
        "names = []\n",
        "scoring = 'accuracy'\n",
        "for name, model in models:\n",
        "    kfold = KFold(n_splits=20)\n",
        "    result =  cross_val_score(model, x, y,  cv=kfold)\n",
        "    results.append(result)\n",
        "    names.append(name)\n",
        "    print(f\"{name}: {result.mean()*100.0:,.2f} ({result.std()*100.0:,.2f})\")"
      ],
      "metadata": {
        "colab": {
          "base_uri": "https://localhost:8080/"
        },
        "id": "1dagdS6R05_3",
        "outputId": "aa2ee677-97ee-4d48-a46a-48f76ee715e3"
      },
      "execution_count": 50,
      "outputs": [
        {
          "output_type": "stream",
          "name": "stdout",
          "text": [
            "LoR: 75.90 (4.60)\n",
            "KNN: 65.93 (6.47)\n",
            "CAR: 72.97 (5.57)\n"
          ]
        }
      ]
    },
    {
      "cell_type": "code",
      "source": [
        "X_train, X_test, y_train, y_test = train_test_split(x, y, test_size=0.30 )\n",
        "svc = LogisticRegression(solver=\"saga\", max_iter=2000)\n",
        "svc.fit(X_train, y_train)\n",
        "predicted = svc.predict(X_test)\n",
        "cohen_score = cohen_kappa_score(y_test, predicted)\n",
        "print(f\"Cohens Score: {cohen_score*100.0:,.2f}\")"
      ],
      "metadata": {
        "colab": {
          "base_uri": "https://localhost:8080/"
        },
        "id": "umRbfivGCc3d",
        "outputId": "5f068c19-f3f4-409f-c004-15a6d40a166f"
      },
      "execution_count": 106,
      "outputs": [
        {
          "output_type": "stream",
          "name": "stdout",
          "text": [
            "Cohens Score: 52.13\n"
          ]
        }
      ]
    },
    {
      "cell_type": "code",
      "source": [
        "X_train, X_test, y_train, y_test = train_test_split(x, y, test_size=0.30 )\n",
        "svc = KNeighborsClassifier(n_neighbors=10, algorithm='brute')\n",
        "svc.fit(X_train, y_train)\n",
        "predicted = svc.predict(X_test)\n",
        "cohen_score = cohen_kappa_score(y_test, predicted)\n",
        "print(f\"Cohens Score: {cohen_score*100.0:,.2f}\")"
      ],
      "metadata": {
        "colab": {
          "base_uri": "https://localhost:8080/"
        },
        "id": "GWmYQQfsLiia",
        "outputId": "763ce1a2-f769-4cbf-dcf2-c06cc36d3f56"
      },
      "execution_count": 114,
      "outputs": [
        {
          "output_type": "stream",
          "name": "stdout",
          "text": [
            "Cohens Score: 12.40\n"
          ]
        }
      ]
    },
    {
      "cell_type": "code",
      "source": [
        "X_train, X_test, y_train, y_test = train_test_split(x, y, test_size=0.30 )\n",
        "svc = DecisionTreeClassifier(random_state=10, criterion='entropy', splitter='random')\n",
        "svc.fit(X_train, y_train)\n",
        "predicted = svc.predict(X_test)\n",
        "cohen_score = cohen_kappa_score(y_test, predicted)\n",
        "print(f\"Cohens Score: {cohen_score*100.0:,.2f}\")"
      ],
      "metadata": {
        "colab": {
          "base_uri": "https://localhost:8080/"
        },
        "id": "LK7JK4l4Mh5d",
        "outputId": "d4e850dc-9ec2-4098-a364-2cccf31843d7"
      },
      "execution_count": 144,
      "outputs": [
        {
          "output_type": "stream",
          "name": "stdout",
          "text": [
            "Cohens Score: 53.52\n"
          ]
        }
      ]
    }
  ]
}