{
 "cells": [
  {
   "cell_type": "code",
   "execution_count": 1,
   "id": "398c6bd3",
   "metadata": {
    "_cell_guid": "b1076dfc-b9ad-4769-8c92-a6c4dae69d19",
    "_uuid": "8f2839f25d086af736a60e9eeb907d3b93b6e0e5",
    "execution": {
     "iopub.execute_input": "2022-11-12T00:14:38.662242Z",
     "iopub.status.busy": "2022-11-12T00:14:38.661285Z",
     "iopub.status.idle": "2022-11-12T00:14:38.684010Z",
     "shell.execute_reply": "2022-11-12T00:14:38.682256Z"
    },
    "papermill": {
     "duration": 0.036988,
     "end_time": "2022-11-12T00:14:38.689033",
     "exception": false,
     "start_time": "2022-11-12T00:14:38.652045",
     "status": "completed"
    },
    "tags": []
   },
   "outputs": [],
   "source": [
    "import pandas as pd\n",
    "import numpy as np\n",
    "import matplotlib.pyplot as plt\n",
    "import seaborn as sns"
   ]
  },
  {
   "cell_type": "markdown",
   "id": "ff1ca864",
   "metadata": {
    "papermill": {
     "duration": 0.006202,
     "end_time": "2022-11-12T00:14:38.702973",
     "exception": false,
     "start_time": "2022-11-12T00:14:38.696771",
     "status": "completed"
    },
    "tags": []
   },
   "source": [
    "# Import Data"
   ]
  },
  {
   "cell_type": "code",
   "execution_count": 83,
   "id": "1888db3a",
   "metadata": {
    "execution": {
     "iopub.execute_input": "2022-11-12T00:14:38.717923Z",
     "iopub.status.busy": "2022-11-12T00:14:38.716981Z",
     "iopub.status.idle": "2022-11-12T00:14:38.760093Z",
     "shell.execute_reply": "2022-11-12T00:14:38.759162Z"
    },
    "papermill": {
     "duration": 0.053019,
     "end_time": "2022-11-12T00:14:38.762472",
     "exception": false,
     "start_time": "2022-11-12T00:14:38.709453",
     "status": "completed"
    },
    "tags": []
   },
   "outputs": [],
   "source": [
    "dataframe = pd.read_csv('ford.csv')\n",
    "data = dataframe\n",
    "dt = dataframe"
   ]
  },
  {
   "cell_type": "markdown",
   "id": "91b68454",
   "metadata": {
    "papermill": {
     "duration": 0.00639,
     "end_time": "2022-11-12T00:14:38.775462",
     "exception": false,
     "start_time": "2022-11-12T00:14:38.769072",
     "status": "completed"
    },
    "tags": []
   },
   "source": [
    "# Data Visualization"
   ]
  },
  {
   "cell_type": "code",
   "execution_count": 84,
   "id": "2161688c",
   "metadata": {
    "execution": {
     "iopub.execute_input": "2022-11-12T00:14:38.790711Z",
     "iopub.status.busy": "2022-11-12T00:14:38.789223Z",
     "iopub.status.idle": "2022-11-12T00:14:38.819450Z",
     "shell.execute_reply": "2022-11-12T00:14:38.818052Z"
    },
    "papermill": {
     "duration": 0.040194,
     "end_time": "2022-11-12T00:14:38.822085",
     "exception": false,
     "start_time": "2022-11-12T00:14:38.781891",
     "status": "completed"
    },
    "tags": []
   },
   "outputs": [
    {
     "data": {
      "text/html": [
       "<div>\n",
       "<style scoped>\n",
       "    .dataframe tbody tr th:only-of-type {\n",
       "        vertical-align: middle;\n",
       "    }\n",
       "\n",
       "    .dataframe tbody tr th {\n",
       "        vertical-align: top;\n",
       "    }\n",
       "\n",
       "    .dataframe thead th {\n",
       "        text-align: right;\n",
       "    }\n",
       "</style>\n",
       "<table border=\"1\" class=\"dataframe\">\n",
       "  <thead>\n",
       "    <tr style=\"text-align: right;\">\n",
       "      <th></th>\n",
       "      <th>model</th>\n",
       "      <th>year</th>\n",
       "      <th>price</th>\n",
       "      <th>transmission</th>\n",
       "      <th>mileage</th>\n",
       "      <th>fuelType</th>\n",
       "      <th>tax</th>\n",
       "      <th>mpg</th>\n",
       "      <th>engineSize</th>\n",
       "    </tr>\n",
       "  </thead>\n",
       "  <tbody>\n",
       "    <tr>\n",
       "      <th>0</th>\n",
       "      <td>Fiesta</td>\n",
       "      <td>2017</td>\n",
       "      <td>12000</td>\n",
       "      <td>Automatic</td>\n",
       "      <td>15944</td>\n",
       "      <td>Petrol</td>\n",
       "      <td>150</td>\n",
       "      <td>57.7</td>\n",
       "      <td>1.0</td>\n",
       "    </tr>\n",
       "    <tr>\n",
       "      <th>1</th>\n",
       "      <td>Focus</td>\n",
       "      <td>2018</td>\n",
       "      <td>14000</td>\n",
       "      <td>Manual</td>\n",
       "      <td>9083</td>\n",
       "      <td>Petrol</td>\n",
       "      <td>150</td>\n",
       "      <td>57.7</td>\n",
       "      <td>1.0</td>\n",
       "    </tr>\n",
       "    <tr>\n",
       "      <th>2</th>\n",
       "      <td>Focus</td>\n",
       "      <td>2017</td>\n",
       "      <td>13000</td>\n",
       "      <td>Manual</td>\n",
       "      <td>12456</td>\n",
       "      <td>Petrol</td>\n",
       "      <td>150</td>\n",
       "      <td>57.7</td>\n",
       "      <td>1.0</td>\n",
       "    </tr>\n",
       "    <tr>\n",
       "      <th>3</th>\n",
       "      <td>Fiesta</td>\n",
       "      <td>2019</td>\n",
       "      <td>17500</td>\n",
       "      <td>Manual</td>\n",
       "      <td>10460</td>\n",
       "      <td>Petrol</td>\n",
       "      <td>145</td>\n",
       "      <td>40.3</td>\n",
       "      <td>1.5</td>\n",
       "    </tr>\n",
       "    <tr>\n",
       "      <th>4</th>\n",
       "      <td>Fiesta</td>\n",
       "      <td>2019</td>\n",
       "      <td>16500</td>\n",
       "      <td>Automatic</td>\n",
       "      <td>1482</td>\n",
       "      <td>Petrol</td>\n",
       "      <td>145</td>\n",
       "      <td>48.7</td>\n",
       "      <td>1.0</td>\n",
       "    </tr>\n",
       "  </tbody>\n",
       "</table>\n",
       "</div>"
      ],
      "text/plain": [
       "     model  year  price transmission  mileage fuelType  tax   mpg  engineSize\n",
       "0   Fiesta  2017  12000    Automatic    15944   Petrol  150  57.7         1.0\n",
       "1    Focus  2018  14000       Manual     9083   Petrol  150  57.7         1.0\n",
       "2    Focus  2017  13000       Manual    12456   Petrol  150  57.7         1.0\n",
       "3   Fiesta  2019  17500       Manual    10460   Petrol  145  40.3         1.5\n",
       "4   Fiesta  2019  16500    Automatic     1482   Petrol  145  48.7         1.0"
      ]
     },
     "execution_count": 84,
     "metadata": {},
     "output_type": "execute_result"
    }
   ],
   "source": [
    "data.head()"
   ]
  },
  {
   "cell_type": "code",
   "execution_count": 85,
   "id": "9473ad59",
   "metadata": {
    "execution": {
     "iopub.execute_input": "2022-11-12T00:14:38.836834Z",
     "iopub.status.busy": "2022-11-12T00:14:38.836399Z",
     "iopub.status.idle": "2022-11-12T00:14:38.842799Z",
     "shell.execute_reply": "2022-11-12T00:14:38.841799Z"
    },
    "papermill": {
     "duration": 0.016905,
     "end_time": "2022-11-12T00:14:38.845568",
     "exception": false,
     "start_time": "2022-11-12T00:14:38.828663",
     "status": "completed"
    },
    "tags": []
   },
   "outputs": [
    {
     "data": {
      "text/plain": [
       "(17966, 9)"
      ]
     },
     "execution_count": 85,
     "metadata": {},
     "output_type": "execute_result"
    }
   ],
   "source": [
    "data.shape"
   ]
  },
  {
   "cell_type": "code",
   "execution_count": 86,
   "id": "311243fb",
   "metadata": {
    "execution": {
     "iopub.execute_input": "2022-11-12T00:14:38.860749Z",
     "iopub.status.busy": "2022-11-12T00:14:38.860300Z",
     "iopub.status.idle": "2022-11-12T00:14:38.893599Z",
     "shell.execute_reply": "2022-11-12T00:14:38.891306Z"
    },
    "papermill": {
     "duration": 0.043823,
     "end_time": "2022-11-12T00:14:38.896194",
     "exception": false,
     "start_time": "2022-11-12T00:14:38.852371",
     "status": "completed"
    },
    "tags": []
   },
   "outputs": [
    {
     "name": "stdout",
     "output_type": "stream",
     "text": [
      "<class 'pandas.core.frame.DataFrame'>\n",
      "RangeIndex: 17966 entries, 0 to 17965\n",
      "Data columns (total 9 columns):\n",
      " #   Column        Non-Null Count  Dtype  \n",
      "---  ------        --------------  -----  \n",
      " 0   model         17966 non-null  object \n",
      " 1   year          17966 non-null  int64  \n",
      " 2   price         17966 non-null  int64  \n",
      " 3   transmission  17966 non-null  object \n",
      " 4   mileage       17966 non-null  int64  \n",
      " 5   fuelType      17966 non-null  object \n",
      " 6   tax           17966 non-null  int64  \n",
      " 7   mpg           17966 non-null  float64\n",
      " 8   engineSize    17966 non-null  float64\n",
      "dtypes: float64(2), int64(4), object(3)\n",
      "memory usage: 1.2+ MB\n"
     ]
    }
   ],
   "source": [
    "data.info()"
   ]
  },
  {
   "cell_type": "code",
   "execution_count": 87,
   "id": "ebdda786",
   "metadata": {
    "execution": {
     "iopub.execute_input": "2022-11-12T00:14:38.912000Z",
     "iopub.status.busy": "2022-11-12T00:14:38.911618Z",
     "iopub.status.idle": "2022-11-12T00:14:38.923382Z",
     "shell.execute_reply": "2022-11-12T00:14:38.922057Z"
    },
    "papermill": {
     "duration": 0.023114,
     "end_time": "2022-11-12T00:14:38.926011",
     "exception": false,
     "start_time": "2022-11-12T00:14:38.902897",
     "status": "completed"
    },
    "tags": []
   },
   "outputs": [
    {
     "data": {
      "text/plain": [
       "model           0\n",
       "year            0\n",
       "price           0\n",
       "transmission    0\n",
       "mileage         0\n",
       "fuelType        0\n",
       "tax             0\n",
       "mpg             0\n",
       "engineSize      0\n",
       "dtype: int64"
      ]
     },
     "execution_count": 87,
     "metadata": {},
     "output_type": "execute_result"
    }
   ],
   "source": [
    "data.isna().sum()"
   ]
  },
  {
   "cell_type": "code",
   "execution_count": 132,
   "id": "ffd0c844",
   "metadata": {
    "execution": {
     "iopub.execute_input": "2022-11-12T00:14:38.942567Z",
     "iopub.status.busy": "2022-11-12T00:14:38.942153Z",
     "iopub.status.idle": "2022-11-12T00:14:39.945030Z",
     "shell.execute_reply": "2022-11-12T00:14:39.943237Z"
    },
    "papermill": {
     "duration": 1.014092,
     "end_time": "2022-11-12T00:14:39.947979",
     "exception": false,
     "start_time": "2022-11-12T00:14:38.933887",
     "status": "completed"
    },
    "tags": []
   },
   "outputs": [
    {
     "name": "stderr",
     "output_type": "stream",
     "text": [
      "C:\\Users\\Stefano\\AppData\\Local\\Temp\\ipykernel_12064\\1578468365.py:5: UserWarning: To output multiple subplots, the figure containing the passed axes is being cleared.\n",
      "  data.hist(ax = ax)\n"
     ]
    },
    {
     "data": {
      "image/png": "[encoded data removed]",
      "text/plain": [
       "<Figure size 720x720 with 9 Axes>"
      ]
     },
     "metadata": {
      "needs_background": "light"
     },
     "output_type": "display_data"
    }
   ],
   "source": [
    "import matplotlib.pyplot as plt\n",
    "\n",
    "fig = plt.figure(figsize = (10,10))\n",
    "ax = fig.gca()\n",
    "data.hist(ax = ax)\n",
    "plt.show()"
   ]
  },
  {
   "cell_type": "code",
   "execution_count": 89,
   "id": "d4e00f0d",
   "metadata": {
    "execution": {
     "iopub.execute_input": "2022-11-12T00:14:39.964886Z",
     "iopub.status.busy": "2022-11-12T00:14:39.964524Z",
     "iopub.status.idle": "2022-11-12T00:14:41.272298Z",
     "shell.execute_reply": "2022-11-12T00:14:41.271406Z"
    },
    "papermill": {
     "duration": 1.318714,
     "end_time": "2022-11-12T00:14:41.274342",
     "exception": false,
     "start_time": "2022-11-12T00:14:39.955628",
     "status": "completed"
    },
    "tags": []
   },
   "outputs": [
    {
     "data": {
      "image/png": "[encoded data removed]",
      "text/plain": [
       "<Figure size 720x720 with 2 Axes>"
      ]
     },
     "metadata": {
      "needs_background": "light"
     },
     "output_type": "display_data"
    }
   ],
   "source": [
    "import seaborn as sns\n",
    "cor = data.corr()\n",
    "plt.figure(figsize=(10,10))\n",
    "ax = sns.heatmap(cor, vmax=1, square=True, annot=True, cmap='viridis')\n",
    "plt.title(\"Matriz de correlacion\")\n",
    "plt.show()"
   ]
  },
  {
   "cell_type": "code",
   "execution_count": 90,
   "id": "547e9d9d",
   "metadata": {
    "execution": {
     "iopub.execute_input": "2022-11-12T00:14:41.291432Z",
     "iopub.status.busy": "2022-11-12T00:14:41.290619Z",
     "iopub.status.idle": "2022-11-12T00:14:41.322877Z",
     "shell.execute_reply": "2022-11-12T00:14:41.321255Z"
    },
    "papermill": {
     "duration": 0.043358,
     "end_time": "2022-11-12T00:14:41.325423",
     "exception": false,
     "start_time": "2022-11-12T00:14:41.282065",
     "status": "completed"
    },
    "tags": []
   },
   "outputs": [
    {
     "data": {
      "text/html": [
       "<div>\n",
       "<style scoped>\n",
       "    .dataframe tbody tr th:only-of-type {\n",
       "        vertical-align: middle;\n",
       "    }\n",
       "\n",
       "    .dataframe tbody tr th {\n",
       "        vertical-align: top;\n",
       "    }\n",
       "\n",
       "    .dataframe thead th {\n",
       "        text-align: right;\n",
       "    }\n",
       "</style>\n",
       "<table border=\"1\" class=\"dataframe\">\n",
       "  <thead>\n",
       "    <tr style=\"text-align: right;\">\n",
       "      <th></th>\n",
       "      <th>year</th>\n",
       "      <th>price</th>\n",
       "      <th>mileage</th>\n",
       "      <th>tax</th>\n",
       "      <th>mpg</th>\n",
       "      <th>engineSize</th>\n",
       "    </tr>\n",
       "  </thead>\n",
       "  <tbody>\n",
       "    <tr>\n",
       "      <th>count</th>\n",
       "      <td>17966.000000</td>\n",
       "      <td>17966.000000</td>\n",
       "      <td>17966.000000</td>\n",
       "      <td>17966.000000</td>\n",
       "      <td>17966.000000</td>\n",
       "      <td>17966.000000</td>\n",
       "    </tr>\n",
       "    <tr>\n",
       "      <th>mean</th>\n",
       "      <td>2016.866470</td>\n",
       "      <td>12279.534844</td>\n",
       "      <td>23362.608761</td>\n",
       "      <td>113.329456</td>\n",
       "      <td>57.906980</td>\n",
       "      <td>1.350807</td>\n",
       "    </tr>\n",
       "    <tr>\n",
       "      <th>std</th>\n",
       "      <td>2.050336</td>\n",
       "      <td>4741.343657</td>\n",
       "      <td>19472.054349</td>\n",
       "      <td>62.012456</td>\n",
       "      <td>10.125696</td>\n",
       "      <td>0.432367</td>\n",
       "    </tr>\n",
       "    <tr>\n",
       "      <th>min</th>\n",
       "      <td>1996.000000</td>\n",
       "      <td>495.000000</td>\n",
       "      <td>1.000000</td>\n",
       "      <td>0.000000</td>\n",
       "      <td>20.800000</td>\n",
       "      <td>0.000000</td>\n",
       "    </tr>\n",
       "    <tr>\n",
       "      <th>25%</th>\n",
       "      <td>2016.000000</td>\n",
       "      <td>8999.000000</td>\n",
       "      <td>9987.000000</td>\n",
       "      <td>30.000000</td>\n",
       "      <td>52.300000</td>\n",
       "      <td>1.000000</td>\n",
       "    </tr>\n",
       "    <tr>\n",
       "      <th>50%</th>\n",
       "      <td>2017.000000</td>\n",
       "      <td>11291.000000</td>\n",
       "      <td>18242.500000</td>\n",
       "      <td>145.000000</td>\n",
       "      <td>58.900000</td>\n",
       "      <td>1.200000</td>\n",
       "    </tr>\n",
       "    <tr>\n",
       "      <th>75%</th>\n",
       "      <td>2018.000000</td>\n",
       "      <td>15299.000000</td>\n",
       "      <td>31060.000000</td>\n",
       "      <td>145.000000</td>\n",
       "      <td>65.700000</td>\n",
       "      <td>1.500000</td>\n",
       "    </tr>\n",
       "    <tr>\n",
       "      <th>max</th>\n",
       "      <td>2060.000000</td>\n",
       "      <td>54995.000000</td>\n",
       "      <td>177644.000000</td>\n",
       "      <td>580.000000</td>\n",
       "      <td>201.800000</td>\n",
       "      <td>5.000000</td>\n",
       "    </tr>\n",
       "  </tbody>\n",
       "</table>\n",
       "</div>"
      ],
      "text/plain": [
       "               year         price        mileage           tax           mpg  \\\n",
       "count  17966.000000  17966.000000   17966.000000  17966.000000  17966.000000   \n",
       "mean    2016.866470  12279.534844   23362.608761    113.329456     57.906980   \n",
       "std        2.050336   4741.343657   19472.054349     62.012456     10.125696   \n",
       "min     1996.000000    495.000000       1.000000      0.000000     20.800000   \n",
       "25%     2016.000000   8999.000000    9987.000000     30.000000     52.300000   \n",
       "50%     2017.000000  11291.000000   18242.500000    145.000000     58.900000   \n",
       "75%     2018.000000  15299.000000   31060.000000    145.000000     65.700000   \n",
       "max     2060.000000  54995.000000  177644.000000    580.000000    201.800000   \n",
       "\n",
       "         engineSize  \n",
       "count  17966.000000  \n",
       "mean       1.350807  \n",
       "std        0.432367  \n",
       "min        0.000000  \n",
       "25%        1.000000  \n",
       "50%        1.200000  \n",
       "75%        1.500000  \n",
       "max        5.000000  "
      ]
     },
     "execution_count": 90,
     "metadata": {},
     "output_type": "execute_result"
    }
   ],
   "source": [
    "data.describe()"
   ]
  },
  {
   "cell_type": "markdown",
   "id": "8836dfd6",
   "metadata": {
    "papermill": {
     "duration": 0.007797,
     "end_time": "2022-11-12T00:14:41.341355",
     "exception": false,
     "start_time": "2022-11-12T00:14:41.333558",
     "status": "completed"
    },
    "tags": []
   },
   "source": [
    "# Data Analytics"
   ]
  },
  {
   "cell_type": "code",
   "execution_count": 91,
   "id": "2fa31c90",
   "metadata": {
    "execution": {
     "iopub.execute_input": "2022-11-12T00:14:41.359317Z",
     "iopub.status.busy": "2022-11-12T00:14:41.358960Z",
     "iopub.status.idle": "2022-11-12T00:14:41.368824Z",
     "shell.execute_reply": "2022-11-12T00:14:41.367489Z"
    },
    "papermill": {
     "duration": 0.021513,
     "end_time": "2022-11-12T00:14:41.370949",
     "exception": false,
     "start_time": "2022-11-12T00:14:41.349436",
     "status": "completed"
    },
    "tags": []
   },
   "outputs": [
    {
     "data": {
      "text/plain": [
       " Fiesta      6557\n",
       " Focus       4588\n",
       " Kuga        2225\n",
       " EcoSport    1143\n",
       " C-MAX        543\n",
       "Name: model, dtype: int64"
      ]
     },
     "execution_count": 91,
     "metadata": {},
     "output_type": "execute_result"
    }
   ],
   "source": [
    "Cars = data['model'].value_counts().head(5)\n",
    "Cars"
   ]
  },
  {
   "cell_type": "code",
   "execution_count": 92,
   "id": "27c93078",
   "metadata": {
    "execution": {
     "iopub.execute_input": "2022-11-12T00:14:41.389166Z",
     "iopub.status.busy": "2022-11-12T00:14:41.388426Z",
     "iopub.status.idle": "2022-11-12T00:14:41.550999Z",
     "shell.execute_reply": "2022-11-12T00:14:41.550257Z"
    },
    "papermill": {
     "duration": 0.174161,
     "end_time": "2022-11-12T00:14:41.553288",
     "exception": false,
     "start_time": "2022-11-12T00:14:41.379127",
     "status": "completed"
    },
    "tags": []
   },
   "outputs": [
    {
     "data": {
      "text/plain": [
       "Text(0.5, 1.0, 'Model Cars')"
      ]
     },
     "execution_count": 92,
     "metadata": {},
     "output_type": "execute_result"
    },
    {
     "data": {
      "image/png": "[encoded data removed]",
      "text/plain": [
       "<Figure size 576x576 with 1 Axes>"
      ]
     },
     "metadata": {},
     "output_type": "display_data"
    }
   ],
   "source": [
    "Cars.plot.pie(startangle = 90, shadow = True, autopct = '%1.1f%%',figsize = (8,8))\n",
    "plt.title('Model Cars')"
   ]
  },
  {
   "cell_type": "code",
   "execution_count": 93,
   "id": "8f368ebb",
   "metadata": {
    "execution": {
     "iopub.execute_input": "2022-11-12T00:14:41.577565Z",
     "iopub.status.busy": "2022-11-12T00:14:41.577052Z",
     "iopub.status.idle": "2022-11-12T00:14:41.583074Z",
     "shell.execute_reply": "2022-11-12T00:14:41.582374Z"
    },
    "papermill": {
     "duration": 0.020383,
     "end_time": "2022-11-12T00:14:41.585001",
     "exception": false,
     "start_time": "2022-11-12T00:14:41.564618",
     "status": "completed"
    },
    "tags": []
   },
   "outputs": [],
   "source": [
    "CarExpensiveNew = data[(data['price'] >= 30000) & (data['mileage'] <= 3000) & (data['year'] >= 2020)]\n"
   ]
  },
  {
   "cell_type": "code",
   "execution_count": 94,
   "id": "a7354b14",
   "metadata": {
    "execution": {
     "iopub.execute_input": "2022-11-12T00:14:41.609553Z",
     "iopub.status.busy": "2022-11-12T00:14:41.609014Z",
     "iopub.status.idle": "2022-11-12T00:14:41.613944Z",
     "shell.execute_reply": "2022-11-12T00:14:41.613259Z"
    },
    "papermill": {
     "duration": 0.019622,
     "end_time": "2022-11-12T00:14:41.615955",
     "exception": false,
     "start_time": "2022-11-12T00:14:41.596333",
     "status": "completed"
    },
    "tags": []
   },
   "outputs": [],
   "source": [
    "count_value=CarExpensiveNew['model'].value_counts().head(5)\n"
   ]
  },
  {
   "cell_type": "code",
   "execution_count": 95,
   "id": "5ceac5cf",
   "metadata": {
    "execution": {
     "iopub.execute_input": "2022-11-12T00:14:41.637691Z",
     "iopub.status.busy": "2022-11-12T00:14:41.637014Z",
     "iopub.status.idle": "2022-11-12T00:14:41.789277Z",
     "shell.execute_reply": "2022-11-12T00:14:41.788101Z"
    },
    "papermill": {
     "duration": 0.164915,
     "end_time": "2022-11-12T00:14:41.791796",
     "exception": false,
     "start_time": "2022-11-12T00:14:41.626881",
     "status": "completed"
    },
    "tags": []
   },
   "outputs": [
    {
     "data": {
      "text/plain": [
       "Text(0.5, 1.0, 'Expensive Cars')"
      ]
     },
     "execution_count": 95,
     "metadata": {},
     "output_type": "execute_result"
    },
    {
     "data": {
      "image/png": "[encoded data removed]",
      "text/plain": [
       "<Figure size 432x288 with 1 Axes>"
      ]
     },
     "metadata": {
      "needs_background": "light"
     },
     "output_type": "display_data"
    }
   ],
   "source": [
    "ax = plt.subplots()\n",
    "count_value.plot.bar()\n",
    "plt.title('Expensive Cars')"
   ]
  },
  {
   "cell_type": "code",
   "execution_count": 96,
   "id": "20412419",
   "metadata": {
    "execution": {
     "iopub.execute_input": "2022-11-12T00:14:41.812056Z",
     "iopub.status.busy": "2022-11-12T00:14:41.811446Z",
     "iopub.status.idle": "2022-11-12T00:14:41.817032Z",
     "shell.execute_reply": "2022-11-12T00:14:41.816019Z"
    },
    "papermill": {
     "duration": 0.018664,
     "end_time": "2022-11-12T00:14:41.819592",
     "exception": false,
     "start_time": "2022-11-12T00:14:41.800928",
     "status": "completed"
    },
    "tags": []
   },
   "outputs": [],
   "source": [
    "CarCheap = data[(data['price'] < 10000)]\n"
   ]
  },
  {
   "cell_type": "code",
   "execution_count": 97,
   "id": "7c5a65ec",
   "metadata": {
    "execution": {
     "iopub.execute_input": "2022-11-12T00:14:41.839488Z",
     "iopub.status.busy": "2022-11-12T00:14:41.839123Z",
     "iopub.status.idle": "2022-11-12T00:14:41.844385Z",
     "shell.execute_reply": "2022-11-12T00:14:41.843702Z"
    },
    "papermill": {
     "duration": 0.01806,
     "end_time": "2022-11-12T00:14:41.846838",
     "exception": false,
     "start_time": "2022-11-12T00:14:41.828778",
     "status": "completed"
    },
    "tags": []
   },
   "outputs": [],
   "source": [
    "count_value2=CarCheap['model'].value_counts().head(5)"
   ]
  },
  {
   "cell_type": "code",
   "execution_count": 98,
   "id": "47c76307",
   "metadata": {
    "execution": {
     "iopub.execute_input": "2022-11-12T00:14:41.868131Z",
     "iopub.status.busy": "2022-11-12T00:14:41.867463Z",
     "iopub.status.idle": "2022-11-12T00:14:42.014154Z",
     "shell.execute_reply": "2022-11-12T00:14:42.012804Z"
    },
    "papermill": {
     "duration": 0.160633,
     "end_time": "2022-11-12T00:14:42.016898",
     "exception": false,
     "start_time": "2022-11-12T00:14:41.856265",
     "status": "completed"
    },
    "tags": []
   },
   "outputs": [
    {
     "data": {
      "text/plain": [
       "Text(0.5, 1.0, 'Cheap Cars')"
      ]
     },
     "execution_count": 98,
     "metadata": {},
     "output_type": "execute_result"
    },
    {
     "data": {
      "image/png": "[encoded data removed]",
      "text/plain": [
       "<Figure size 432x288 with 1 Axes>"
      ]
     },
     "metadata": {
      "needs_background": "light"
     },
     "output_type": "display_data"
    }
   ],
   "source": [
    "ax = plt.subplots()\n",
    "count_value2.plot.bar()\n",
    "plt.title('Cheap Cars')"
   ]
  },
  {
   "cell_type": "code",
   "execution_count": 99,
   "id": "087f5050",
   "metadata": {
    "execution": {
     "iopub.execute_input": "2022-11-12T00:14:42.037582Z",
     "iopub.status.busy": "2022-11-12T00:14:42.036845Z",
     "iopub.status.idle": "2022-11-12T00:14:42.236518Z",
     "shell.execute_reply": "2022-11-12T00:14:42.235410Z"
    },
    "papermill": {
     "duration": 0.212667,
     "end_time": "2022-11-12T00:14:42.238948",
     "exception": false,
     "start_time": "2022-11-12T00:14:42.026281",
     "status": "completed"
    },
    "tags": []
   },
   "outputs": [
    {
     "data": {
      "text/plain": [
       "<AxesSubplot:xlabel='year', ylabel='Count'>"
      ]
     },
     "execution_count": 99,
     "metadata": {},
     "output_type": "execute_result"
    },
    {
     "data": {
      "image/png": "[encoded data removed]",
      "text/plain": [
       "<Figure size 432x288 with 1 Axes>"
      ]
     },
     "metadata": {
      "needs_background": "light"
     },
     "output_type": "display_data"
    }
   ],
   "source": [
    "sns.histplot(data=data, x=data['year'], bins = 20)"
   ]
  },
  {
   "cell_type": "code",
   "execution_count": 100,
   "id": "2db223e2",
   "metadata": {},
   "outputs": [
    {
     "data": {
      "text/plain": [
       "transmission\n",
       "Automatic     1361\n",
       "Manual       15518\n",
       "Semi-Auto     1087\n",
       "dtype: int64"
      ]
     },
     "execution_count": 100,
     "metadata": {},
     "output_type": "execute_result"
    }
   ],
   "source": [
    "data.groupby('transmission').size()"
   ]
  },
  {
   "cell_type": "code",
   "execution_count": 101,
   "id": "d2342e94",
   "metadata": {},
   "outputs": [
    {
     "data": {
      "text/plain": [
       "<AxesSubplot:xlabel='transmission', ylabel='price'>"
      ]
     },
     "execution_count": 101,
     "metadata": {},
     "output_type": "execute_result"
    },
    {
     "data": {
      "image/png": "[encoded data removed]",
      "text/plain": [
       "<Figure size 432x288 with 1 Axes>"
      ]
     },
     "metadata": {
      "needs_background": "light"
     },
     "output_type": "display_data"
    }
   ],
   "source": [
    "sns.boxplot(data=data, x=data['transmission'], y=data['price'])"
   ]
  },
  {
   "cell_type": "code",
   "execution_count": 136,
   "id": "3e0d3f6b",
   "metadata": {},
   "outputs": [
    {
     "data": {
      "text/plain": [
       "<AxesSubplot:xlabel='mileage', ylabel='price'>"
      ]
     },
     "execution_count": 136,
     "metadata": {},
     "output_type": "execute_result"
    },
    {
     "data": {
      "image/png": "[encoded data removed]",
      "text/plain": [
       "<Figure size 432x288 with 1 Axes>"
      ]
     },
     "metadata": {
      "needs_background": "light"
     },
     "output_type": "display_data"
    }
   ],
   "source": [
    "sns.scatterplot(data=data, x=data[\"mileage\"], y=data[\"price\"])"
   ]
  },
  {
   "cell_type": "code",
   "execution_count": 114,
   "id": "c1514874",
   "metadata": {},
   "outputs": [
    {
     "data": {
      "text/plain": [
       "<AxesSubplot:xlabel='year', ylabel='price'>"
      ]
     },
     "execution_count": 114,
     "metadata": {},
     "output_type": "execute_result"
    },
    {
     "data": {
      "image/png": "[encoded data removed]",
      "text/plain": [
       "<Figure size 432x288 with 1 Axes>"
      ]
     },
     "metadata": {
      "needs_background": "light"
     },
     "output_type": "display_data"
    }
   ],
   "source": [
    "sns.scatterplot(data=data, x=data[\"year\"], y=data[\"price\"])"
   ]
  },
  {
   "cell_type": "code",
   "execution_count": 116,
   "id": "fe99c9f9",
   "metadata": {},
   "outputs": [
    {
     "data": {
      "text/plain": [
       "<AxesSubplot:xlabel='mpg', ylabel='price'>"
      ]
     },
     "execution_count": 116,
     "metadata": {},
     "output_type": "execute_result"
    },
    {
     "data": {
      "image/png": "[encoded data removed]",
      "text/plain": [
       "<Figure size 432x288 with 1 Axes>"
      ]
     },
     "metadata": {
      "needs_background": "light"
     },
     "output_type": "display_data"
    }
   ],
   "source": [
    "sns.scatterplot(data=data, x=data[\"mpg\"], y=data[\"price\"])"
   ]
  },
  {
   "cell_type": "markdown",
   "id": "2ed7328d",
   "metadata": {
    "papermill": {
     "duration": 0.00929,
     "end_time": "2022-11-12T00:14:42.257691",
     "exception": false,
     "start_time": "2022-11-12T00:14:42.248401",
     "status": "completed"
    },
    "tags": []
   },
   "source": [
    "# Preprocessing"
   ]
  },
  {
   "cell_type": "code",
   "execution_count": 102,
   "id": "90dfaa60",
   "metadata": {
    "execution": {
     "iopub.execute_input": "2022-11-12T00:14:42.278286Z",
     "iopub.status.busy": "2022-11-12T00:14:42.277901Z",
     "iopub.status.idle": "2022-11-12T00:14:42.291079Z",
     "shell.execute_reply": "2022-11-12T00:14:42.289716Z"
    },
    "papermill": {
     "duration": 0.02637,
     "end_time": "2022-11-12T00:14:42.293715",
     "exception": false,
     "start_time": "2022-11-12T00:14:42.267345",
     "status": "completed"
    },
    "tags": []
   },
   "outputs": [
    {
     "data": {
      "text/html": [
       "<div>\n",
       "<style scoped>\n",
       "    .dataframe tbody tr th:only-of-type {\n",
       "        vertical-align: middle;\n",
       "    }\n",
       "\n",
       "    .dataframe tbody tr th {\n",
       "        vertical-align: top;\n",
       "    }\n",
       "\n",
       "    .dataframe thead th {\n",
       "        text-align: right;\n",
       "    }\n",
       "</style>\n",
       "<table border=\"1\" class=\"dataframe\">\n",
       "  <thead>\n",
       "    <tr style=\"text-align: right;\">\n",
       "      <th></th>\n",
       "      <th>model</th>\n",
       "      <th>year</th>\n",
       "      <th>price</th>\n",
       "      <th>transmission</th>\n",
       "      <th>mileage</th>\n",
       "      <th>fuelType</th>\n",
       "      <th>tax</th>\n",
       "      <th>mpg</th>\n",
       "      <th>engineSize</th>\n",
       "    </tr>\n",
       "  </thead>\n",
       "  <tbody>\n",
       "    <tr>\n",
       "      <th>0</th>\n",
       "      <td>5</td>\n",
       "      <td>2017</td>\n",
       "      <td>12000</td>\n",
       "      <td>0</td>\n",
       "      <td>15944</td>\n",
       "      <td>4</td>\n",
       "      <td>150</td>\n",
       "      <td>57.7</td>\n",
       "      <td>1.0</td>\n",
       "    </tr>\n",
       "    <tr>\n",
       "      <th>1</th>\n",
       "      <td>6</td>\n",
       "      <td>2018</td>\n",
       "      <td>14000</td>\n",
       "      <td>1</td>\n",
       "      <td>9083</td>\n",
       "      <td>4</td>\n",
       "      <td>150</td>\n",
       "      <td>57.7</td>\n",
       "      <td>1.0</td>\n",
       "    </tr>\n",
       "    <tr>\n",
       "      <th>2</th>\n",
       "      <td>6</td>\n",
       "      <td>2017</td>\n",
       "      <td>13000</td>\n",
       "      <td>1</td>\n",
       "      <td>12456</td>\n",
       "      <td>4</td>\n",
       "      <td>150</td>\n",
       "      <td>57.7</td>\n",
       "      <td>1.0</td>\n",
       "    </tr>\n",
       "    <tr>\n",
       "      <th>3</th>\n",
       "      <td>5</td>\n",
       "      <td>2019</td>\n",
       "      <td>17500</td>\n",
       "      <td>1</td>\n",
       "      <td>10460</td>\n",
       "      <td>4</td>\n",
       "      <td>145</td>\n",
       "      <td>40.3</td>\n",
       "      <td>1.5</td>\n",
       "    </tr>\n",
       "    <tr>\n",
       "      <th>4</th>\n",
       "      <td>5</td>\n",
       "      <td>2019</td>\n",
       "      <td>16500</td>\n",
       "      <td>0</td>\n",
       "      <td>1482</td>\n",
       "      <td>4</td>\n",
       "      <td>145</td>\n",
       "      <td>48.7</td>\n",
       "      <td>1.0</td>\n",
       "    </tr>\n",
       "  </tbody>\n",
       "</table>\n",
       "</div>"
      ],
      "text/plain": [
       "   model  year  price  transmission  mileage  fuelType  tax   mpg  engineSize\n",
       "0      5  2017  12000             0    15944         4  150  57.7         1.0\n",
       "1      6  2018  14000             1     9083         4  150  57.7         1.0\n",
       "2      6  2017  13000             1    12456         4  150  57.7         1.0\n",
       "3      5  2019  17500             1    10460         4  145  40.3         1.5\n",
       "4      5  2019  16500             0     1482         4  145  48.7         1.0"
      ]
     },
     "execution_count": 102,
     "metadata": {},
     "output_type": "execute_result"
    }
   ],
   "source": [
    "df.head()"
   ]
  },
  {
   "cell_type": "code",
   "execution_count": 103,
   "id": "ce31e9dd",
   "metadata": {
    "execution": {
     "iopub.execute_input": "2022-11-12T00:14:42.315444Z",
     "iopub.status.busy": "2022-11-12T00:14:42.315037Z",
     "iopub.status.idle": "2022-11-12T00:14:42.498274Z",
     "shell.execute_reply": "2022-11-12T00:14:42.496824Z"
    },
    "papermill": {
     "duration": 0.197397,
     "end_time": "2022-11-12T00:14:42.501074",
     "exception": false,
     "start_time": "2022-11-12T00:14:42.303677",
     "status": "completed"
    },
    "tags": []
   },
   "outputs": [],
   "source": [
    "from sklearn import preprocessing\n",
    "\n",
    "encoder = preprocessing.LabelEncoder()\n",
    "dt['model'] = encoder.fit_transform(dt['model'])\n",
    "dt['transmission'] = encoder.fit_transform(dt['transmission'])\n",
    "dt['fuelType'] = encoder.fit_transform(dt['fuelType'])"
   ]
  },
  {
   "cell_type": "code",
   "execution_count": 137,
   "id": "5b86afd0",
   "metadata": {},
   "outputs": [
    {
     "data": {
      "text/html": [
       "<div>\n",
       "<style scoped>\n",
       "    .dataframe tbody tr th:only-of-type {\n",
       "        vertical-align: middle;\n",
       "    }\n",
       "\n",
       "    .dataframe tbody tr th {\n",
       "        vertical-align: top;\n",
       "    }\n",
       "\n",
       "    .dataframe thead th {\n",
       "        text-align: right;\n",
       "    }\n",
       "</style>\n",
       "<table border=\"1\" class=\"dataframe\">\n",
       "  <thead>\n",
       "    <tr style=\"text-align: right;\">\n",
       "      <th></th>\n",
       "      <th>model</th>\n",
       "      <th>year</th>\n",
       "      <th>price</th>\n",
       "      <th>transmission</th>\n",
       "      <th>mileage</th>\n",
       "      <th>fuelType</th>\n",
       "      <th>tax</th>\n",
       "      <th>mpg</th>\n",
       "      <th>engineSize</th>\n",
       "    </tr>\n",
       "  </thead>\n",
       "  <tbody>\n",
       "    <tr>\n",
       "      <th>0</th>\n",
       "      <td>5</td>\n",
       "      <td>2017</td>\n",
       "      <td>12000</td>\n",
       "      <td>0</td>\n",
       "      <td>15944</td>\n",
       "      <td>4</td>\n",
       "      <td>150</td>\n",
       "      <td>57.7</td>\n",
       "      <td>1.0</td>\n",
       "    </tr>\n",
       "    <tr>\n",
       "      <th>1</th>\n",
       "      <td>6</td>\n",
       "      <td>2018</td>\n",
       "      <td>14000</td>\n",
       "      <td>1</td>\n",
       "      <td>9083</td>\n",
       "      <td>4</td>\n",
       "      <td>150</td>\n",
       "      <td>57.7</td>\n",
       "      <td>1.0</td>\n",
       "    </tr>\n",
       "    <tr>\n",
       "      <th>2</th>\n",
       "      <td>6</td>\n",
       "      <td>2017</td>\n",
       "      <td>13000</td>\n",
       "      <td>1</td>\n",
       "      <td>12456</td>\n",
       "      <td>4</td>\n",
       "      <td>150</td>\n",
       "      <td>57.7</td>\n",
       "      <td>1.0</td>\n",
       "    </tr>\n",
       "    <tr>\n",
       "      <th>3</th>\n",
       "      <td>5</td>\n",
       "      <td>2019</td>\n",
       "      <td>17500</td>\n",
       "      <td>1</td>\n",
       "      <td>10460</td>\n",
       "      <td>4</td>\n",
       "      <td>145</td>\n",
       "      <td>40.3</td>\n",
       "      <td>1.5</td>\n",
       "    </tr>\n",
       "    <tr>\n",
       "      <th>4</th>\n",
       "      <td>5</td>\n",
       "      <td>2019</td>\n",
       "      <td>16500</td>\n",
       "      <td>0</td>\n",
       "      <td>1482</td>\n",
       "      <td>4</td>\n",
       "      <td>145</td>\n",
       "      <td>48.7</td>\n",
       "      <td>1.0</td>\n",
       "    </tr>\n",
       "  </tbody>\n",
       "</table>\n",
       "</div>"
      ],
      "text/plain": [
       "   model  year  price  transmission  mileage  fuelType  tax   mpg  engineSize\n",
       "0      5  2017  12000             0    15944         4  150  57.7         1.0\n",
       "1      6  2018  14000             1     9083         4  150  57.7         1.0\n",
       "2      6  2017  13000             1    12456         4  150  57.7         1.0\n",
       "3      5  2019  17500             1    10460         4  145  40.3         1.5\n",
       "4      5  2019  16500             0     1482         4  145  48.7         1.0"
      ]
     },
     "execution_count": 137,
     "metadata": {},
     "output_type": "execute_result"
    }
   ],
   "source": [
    "dt.head()"
   ]
  },
  {
   "cell_type": "code",
   "execution_count": 104,
   "id": "b7416e86",
   "metadata": {
    "execution": {
     "iopub.execute_input": "2022-11-12T00:14:42.522590Z",
     "iopub.status.busy": "2022-11-12T00:14:42.522175Z",
     "iopub.status.idle": "2022-11-12T00:14:42.530938Z",
     "shell.execute_reply": "2022-11-12T00:14:42.529669Z"
    },
    "papermill": {
     "duration": 0.022743,
     "end_time": "2022-11-12T00:14:42.533608",
     "exception": false,
     "start_time": "2022-11-12T00:14:42.510865",
     "status": "completed"
    },
    "tags": []
   },
   "outputs": [],
   "source": [
    "array = dt.values\n",
    "X = array[:, 0:8]\n",
    "Y = array[:, 2]"
   ]
  },
  {
   "cell_type": "markdown",
   "id": "6350179c",
   "metadata": {
    "papermill": {
     "duration": 0.009882,
     "end_time": "2022-11-12T00:14:42.586785",
     "exception": false,
     "start_time": "2022-11-12T00:14:42.576903",
     "status": "completed"
    },
    "tags": []
   },
   "source": [
    "# Model"
   ]
  },
  {
   "cell_type": "code",
   "execution_count": 105,
   "id": "c2d85a69",
   "metadata": {
    "execution": {
     "iopub.execute_input": "2022-11-12T00:14:42.608703Z",
     "iopub.status.busy": "2022-11-12T00:14:42.607618Z",
     "iopub.status.idle": "2022-11-12T00:15:07.498760Z",
     "shell.execute_reply": "2022-11-12T00:15:07.497459Z"
    },
    "papermill": {
     "duration": 24.904356,
     "end_time": "2022-11-12T00:15:07.500851",
     "exception": false,
     "start_time": "2022-11-12T00:14:42.596495",
     "status": "completed"
    },
    "tags": []
   },
   "outputs": [
    {
     "name": "stdout",
     "output_type": "stream",
     "text": [
      "ElN: 100.00 (0.00)\n",
      "LS: 100.00 (0.00)\n",
      "LR: 100.00 (0.00)\n",
      "RiG: 100.00 (0.00)\n",
      "KR: 99.62 (0.42)\n"
     ]
    }
   ],
   "source": [
    "from sklearn.linear_model import ElasticNet\n",
    "from sklearn.linear_model import Lasso\n",
    "from sklearn.linear_model import LinearRegression\n",
    "from sklearn.linear_model import Ridge\n",
    "from sklearn.tree import DecisionTreeRegressor\n",
    "from sklearn.neighbors import KNeighborsRegressor\n",
    "from sklearn.svm import SVR\n",
    "from sklearn.model_selection import train_test_split\n",
    "from sklearn.model_selection import cross_val_score\n",
    "from sklearn.model_selection import KFold\n",
    "from sklearn.metrics import r2_score\n",
    "\n",
    "\n",
    "models = []\n",
    "models.append(('ElN', ElasticNet()))\n",
    "models.append(('LS', Lasso()))\n",
    "models.append(('LR', LinearRegression()))\n",
    "models.append(('RiG', Ridge()))\n",
    "models.append(('KR', KNeighborsRegressor()))\n",
    "\n",
    "\n",
    "results = []\n",
    "names = []\n",
    "scoring = 'accuracy'\n",
    "for name, model in models:\n",
    "    kfold = KFold(n_splits=10)\n",
    "    result =  cross_val_score(model, X, Y,  cv=kfold)\n",
    "    results.append(result)\n",
    "    names.append(name)\n",
    "    print(f\"{name}: {result.mean()*100.0:,.2f} ({result.std()*100.0:,.2f})\")"
   ]
  },
  {
   "cell_type": "markdown",
   "id": "aad0cbc9",
   "metadata": {},
   "source": [
    "# Test"
   ]
  },
  {
   "cell_type": "code",
   "execution_count": 119,
   "id": "5797a42e",
   "metadata": {
    "execution": {
     "iopub.execute_input": "2022-11-12T00:15:07.523054Z",
     "iopub.status.busy": "2022-11-12T00:15:07.522668Z",
     "iopub.status.idle": "2022-11-12T00:15:08.199949Z",
     "shell.execute_reply": "2022-11-12T00:15:08.198703Z"
    },
    "papermill": {
     "duration": 0.690969,
     "end_time": "2022-11-12T00:15:08.201997",
     "exception": false,
     "start_time": "2022-11-12T00:15:07.511028",
     "status": "completed"
    },
    "tags": []
   },
   "outputs": [
    {
     "name": "stdout",
     "output_type": "stream",
     "text": [
      "Score: 1.0\n"
     ]
    }
   ],
   "source": [
    "X_train, X_test, y_train, y_test = train_test_split(X, Y, test_size=0.40 )\n",
    "Lr = LinearRegression()\n",
    "Lr.fit(X_train, y_train)\n",
    "predicted = Lr.predict(X_test)\n",
    "score =r2_score(y_test, predicted)\n",
    "print(f\"Score: {score}\")"
   ]
  },
  {
   "cell_type": "code",
   "execution_count": 131,
   "id": "650fde45",
   "metadata": {},
   "outputs": [
    {
     "data": {
      "text/plain": [
       "<AxesSubplot:>"
      ]
     },
     "execution_count": 131,
     "metadata": {},
     "output_type": "execute_result"
    },
    {
     "data": {
      "image/png": "[encoded data removed]",
      "text/plain": [
       "<Figure size 432x288 with 1 Axes>"
      ]
     },
     "metadata": {
      "needs_background": "light"
     },
     "output_type": "display_data"
    }
   ],
   "source": [
    "sns.scatterplot(x=y_test, y=predicted, color='black')"
   ]
  },
  {
   "cell_type": "code",
   "execution_count": null,
   "id": "e646ecd2",
   "metadata": {},
   "outputs": [],
   "source": []
  }
 ],
 "metadata": {
  "kernelspec": {
   "display_name": "Python 3 (ipykernel)",
   "language": "python",
   "name": "python3"
  },
  "language_info": {
   "codemirror_mode": {
    "name": "ipython",
    "version": 3
   },
   "file_extension": ".py",
   "mimetype": "text/x-python",
   "name": "python",
   "nbconvert_exporter": "python",
   "pygments_lexer": "ipython3",
   "version": "3.9.12"
  },
  "papermill": {
   "default_parameters": {},
   "duration": 38.762623,
   "end_time": "2022-11-12T00:15:09.135192",
   "environment_variables": {},
   "exception": null,
   "input_path": "__notebook__.ipynb",
   "output_path": "__notebook__.ipynb",
   "parameters": {},
   "start_time": "2022-11-12T00:14:30.372569",
   "version": "2.3.4"
  },
  "vscode": {
   "interpreter": {
    "hash": "4f217b72210ac49a97bd56229deb01e32e3113fa6c6f0c48edb9aa5bcc3c8034"
   }
  }
 },
 "nbformat": 4,
 "nbformat_minor": 5
}
