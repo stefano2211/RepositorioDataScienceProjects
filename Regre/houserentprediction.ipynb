{
 "cells": [
  {
   "cell_type": "code",
   "execution_count": 35,
   "id": "c4ce50f0",
   "metadata": {
    "_cell_guid": "b1076dfc-b9ad-4769-8c92-a6c4dae69d19",
    "_uuid": "8f2839f25d086af736a60e9eeb907d3b93b6e0e5",
    "execution": {
     "iopub.execute_input": "2022-11-13T12:52:15.380393Z",
     "iopub.status.busy": "2022-11-13T12:52:15.379857Z",
     "iopub.status.idle": "2022-11-13T12:52:15.401421Z",
     "shell.execute_reply": "2022-11-13T12:52:15.400376Z"
    },
    "papermill": {
     "duration": 0.033781,
     "end_time": "2022-11-13T12:52:15.404409",
     "exception": false,
     "start_time": "2022-11-13T12:52:15.370628",
     "status": "completed"
    },
    "tags": []
   },
   "outputs": [],
   "source": [
    "# This Python 3 environment comes with many helpful analytics libraries installed\n",
    "# It is defined by the kaggle/python Docker image: https://github.com/kaggle/docker-python\n",
    "# For example, here's several helpful packages to load\n",
    "\n",
    "import numpy as np # linear algebra\n",
    "import pandas as pd # data processing, CSV file I/O (e.g. pd.read_csv)\n",
    "\n",
    "# Input data files are available in the read-only \"../input/\" directory\n",
    "# For example, running this (by clicking run or pressing Shift+Enter) will list all files under the input directory\n",
    "\n",
    "import os\n",
    "for dirname, _, filenames in os.walk('/kaggle/input'):\n",
    "    for filename in filenames:\n",
    "        print(os.path.join(dirname, filename))\n",
    "\n",
    "# You can write up to 20GB to the current directory (/kaggle/working/) that gets preserved as output when you create a version using \"Save & Run All\" \n",
    "# You can also write temporary files to /kaggle/temp/, but they won't be saved outside of the current session"
   ]
  },
  {
   "cell_type": "markdown",
   "id": "e663bc97",
   "metadata": {
    "papermill": {
     "duration": 0.005569,
     "end_time": "2022-11-13T12:52:15.415966",
     "exception": false,
     "start_time": "2022-11-13T12:52:15.410397",
     "status": "completed"
    },
    "tags": []
   },
   "source": [
    "# Cargar CSV"
   ]
  },
  {
   "cell_type": "markdown",
   "id": "d564bbfd",
   "metadata": {},
   "source": [
    "Importamos el dataset en este caso para predecir el costo del listado de carros"
   ]
  },
  {
   "cell_type": "code",
   "execution_count": 36,
   "id": "4dc8fd9b",
   "metadata": {
    "execution": {
     "iopub.execute_input": "2022-11-13T12:52:15.430108Z",
     "iopub.status.busy": "2022-11-13T12:52:15.429552Z",
     "iopub.status.idle": "2022-11-13T12:52:15.470603Z",
     "shell.execute_reply": "2022-11-13T12:52:15.469505Z"
    },
    "papermill": {
     "duration": 0.05189,
     "end_time": "2022-11-13T12:52:15.473560",
     "exception": false,
     "start_time": "2022-11-13T12:52:15.421670",
     "status": "completed"
    },
    "tags": []
   },
   "outputs": [],
   "source": [
    "\"\"\"Guardamos el set de datos en una variable\"\"\"\n",
    "dt = pd.read_csv('Datasets/House_Rent_Dataset.csv')"
   ]
  },
  {
   "cell_type": "markdown",
   "id": "0a23d6d4",
   "metadata": {
    "papermill": {
     "duration": 0.005578,
     "end_time": "2022-11-13T12:52:15.485426",
     "exception": false,
     "start_time": "2022-11-13T12:52:15.479848",
     "status": "completed"
    },
    "tags": []
   },
   "source": [
    "# Comprencion de los datos"
   ]
  },
  {
   "cell_type": "markdown",
   "id": "ff4da1ab",
   "metadata": {},
   "source": [
    "Visualizamos el set de datos para saber si hay datos corruptos que puedan afectar la prediccion de nuestro modelo"
   ]
  },
  {
   "cell_type": "code",
   "execution_count": 37,
   "id": "e6ca5732",
   "metadata": {
    "execution": {
     "iopub.execute_input": "2022-11-13T12:52:15.499659Z",
     "iopub.status.busy": "2022-11-13T12:52:15.498905Z",
     "iopub.status.idle": "2022-11-13T12:52:15.533295Z",
     "shell.execute_reply": "2022-11-13T12:52:15.532283Z"
    },
    "papermill": {
     "duration": 0.044356,
     "end_time": "2022-11-13T12:52:15.535811",
     "exception": false,
     "start_time": "2022-11-13T12:52:15.491455",
     "status": "completed"
    },
    "tags": []
   },
   "outputs": [
    {
     "data": {
      "text/html": [
       "<div>\n",
       "<style scoped>\n",
       "    .dataframe tbody tr th:only-of-type {\n",
       "        vertical-align: middle;\n",
       "    }\n",
       "\n",
       "    .dataframe tbody tr th {\n",
       "        vertical-align: top;\n",
       "    }\n",
       "\n",
       "    .dataframe thead th {\n",
       "        text-align: right;\n",
       "    }\n",
       "</style>\n",
       "<table border=\"1\" class=\"dataframe\">\n",
       "  <thead>\n",
       "    <tr style=\"text-align: right;\">\n",
       "      <th></th>\n",
       "      <th>Posted On</th>\n",
       "      <th>BHK</th>\n",
       "      <th>Rent</th>\n",
       "      <th>Size</th>\n",
       "      <th>Floor</th>\n",
       "      <th>Area Type</th>\n",
       "      <th>Area Locality</th>\n",
       "      <th>City</th>\n",
       "      <th>Furnishing Status</th>\n",
       "      <th>Tenant Preferred</th>\n",
       "      <th>Bathroom</th>\n",
       "      <th>Point of Contact</th>\n",
       "    </tr>\n",
       "  </thead>\n",
       "  <tbody>\n",
       "    <tr>\n",
       "      <th>0</th>\n",
       "      <td>2022-05-18</td>\n",
       "      <td>2</td>\n",
       "      <td>10000</td>\n",
       "      <td>1100</td>\n",
       "      <td>Ground out of 2</td>\n",
       "      <td>Super Area</td>\n",
       "      <td>Bandel</td>\n",
       "      <td>Kolkata</td>\n",
       "      <td>Unfurnished</td>\n",
       "      <td>Bachelors/Family</td>\n",
       "      <td>2</td>\n",
       "      <td>Contact Owner</td>\n",
       "    </tr>\n",
       "    <tr>\n",
       "      <th>1</th>\n",
       "      <td>2022-05-13</td>\n",
       "      <td>2</td>\n",
       "      <td>20000</td>\n",
       "      <td>800</td>\n",
       "      <td>1 out of 3</td>\n",
       "      <td>Super Area</td>\n",
       "      <td>Phool Bagan, Kankurgachi</td>\n",
       "      <td>Kolkata</td>\n",
       "      <td>Semi-Furnished</td>\n",
       "      <td>Bachelors/Family</td>\n",
       "      <td>1</td>\n",
       "      <td>Contact Owner</td>\n",
       "    </tr>\n",
       "    <tr>\n",
       "      <th>2</th>\n",
       "      <td>2022-05-16</td>\n",
       "      <td>2</td>\n",
       "      <td>17000</td>\n",
       "      <td>1000</td>\n",
       "      <td>1 out of 3</td>\n",
       "      <td>Super Area</td>\n",
       "      <td>Salt Lake City Sector 2</td>\n",
       "      <td>Kolkata</td>\n",
       "      <td>Semi-Furnished</td>\n",
       "      <td>Bachelors/Family</td>\n",
       "      <td>1</td>\n",
       "      <td>Contact Owner</td>\n",
       "    </tr>\n",
       "    <tr>\n",
       "      <th>3</th>\n",
       "      <td>2022-07-04</td>\n",
       "      <td>2</td>\n",
       "      <td>10000</td>\n",
       "      <td>800</td>\n",
       "      <td>1 out of 2</td>\n",
       "      <td>Super Area</td>\n",
       "      <td>Dumdum Park</td>\n",
       "      <td>Kolkata</td>\n",
       "      <td>Unfurnished</td>\n",
       "      <td>Bachelors/Family</td>\n",
       "      <td>1</td>\n",
       "      <td>Contact Owner</td>\n",
       "    </tr>\n",
       "    <tr>\n",
       "      <th>4</th>\n",
       "      <td>2022-05-09</td>\n",
       "      <td>2</td>\n",
       "      <td>7500</td>\n",
       "      <td>850</td>\n",
       "      <td>1 out of 2</td>\n",
       "      <td>Carpet Area</td>\n",
       "      <td>South Dum Dum</td>\n",
       "      <td>Kolkata</td>\n",
       "      <td>Unfurnished</td>\n",
       "      <td>Bachelors</td>\n",
       "      <td>1</td>\n",
       "      <td>Contact Owner</td>\n",
       "    </tr>\n",
       "  </tbody>\n",
       "</table>\n",
       "</div>"
      ],
      "text/plain": [
       "    Posted On  BHK   Rent  Size            Floor    Area Type  \\\n",
       "0  2022-05-18    2  10000  1100  Ground out of 2   Super Area   \n",
       "1  2022-05-13    2  20000   800       1 out of 3   Super Area   \n",
       "2  2022-05-16    2  17000  1000       1 out of 3   Super Area   \n",
       "3  2022-07-04    2  10000   800       1 out of 2   Super Area   \n",
       "4  2022-05-09    2   7500   850       1 out of 2  Carpet Area   \n",
       "\n",
       "              Area Locality     City Furnishing Status  Tenant Preferred  \\\n",
       "0                    Bandel  Kolkata       Unfurnished  Bachelors/Family   \n",
       "1  Phool Bagan, Kankurgachi  Kolkata    Semi-Furnished  Bachelors/Family   \n",
       "2   Salt Lake City Sector 2  Kolkata    Semi-Furnished  Bachelors/Family   \n",
       "3               Dumdum Park  Kolkata       Unfurnished  Bachelors/Family   \n",
       "4             South Dum Dum  Kolkata       Unfurnished         Bachelors   \n",
       "\n",
       "   Bathroom Point of Contact  \n",
       "0         2    Contact Owner  \n",
       "1         1    Contact Owner  \n",
       "2         1    Contact Owner  \n",
       "3         1    Contact Owner  \n",
       "4         1    Contact Owner  "
      ]
     },
     "execution_count": 37,
     "metadata": {},
     "output_type": "execute_result"
    }
   ],
   "source": [
    "\"\"\"Visualizamos la tabla de datos\"\"\"\n",
    "dt.head()"
   ]
  },
  {
   "cell_type": "code",
   "execution_count": 38,
   "id": "f1c85c1e",
   "metadata": {
    "execution": {
     "iopub.execute_input": "2022-11-13T12:52:15.550177Z",
     "iopub.status.busy": "2022-11-13T12:52:15.549751Z",
     "iopub.status.idle": "2022-11-13T12:52:15.566272Z",
     "shell.execute_reply": "2022-11-13T12:52:15.565000Z"
    },
    "papermill": {
     "duration": 0.026904,
     "end_time": "2022-11-13T12:52:15.569015",
     "exception": false,
     "start_time": "2022-11-13T12:52:15.542111",
     "status": "completed"
    },
    "tags": []
   },
   "outputs": [
    {
     "data": {
      "text/plain": [
       "Super Area     2446\n",
       "Carpet Area    2298\n",
       "Built Area        2\n",
       "Name: Area Type, dtype: int64"
      ]
     },
     "execution_count": 38,
     "metadata": {},
     "output_type": "execute_result"
    }
   ],
   "source": [
    "\"\"\"Contamos las variables del tipo de area\"\"\"\n",
    "td = dt['Area Type'].value_counts()\n",
    "td"
   ]
  },
  {
   "cell_type": "code",
   "execution_count": 39,
   "id": "74486f45",
   "metadata": {
    "execution": {
     "iopub.execute_input": "2022-11-13T12:52:15.583925Z",
     "iopub.status.busy": "2022-11-13T12:52:15.583401Z",
     "iopub.status.idle": "2022-11-13T12:52:15.594680Z",
     "shell.execute_reply": "2022-11-13T12:52:15.592940Z"
    },
    "papermill": {
     "duration": 0.022427,
     "end_time": "2022-11-13T12:52:15.597670",
     "exception": false,
     "start_time": "2022-11-13T12:52:15.575243",
     "status": "completed"
    },
    "tags": []
   },
   "outputs": [
    {
     "data": {
      "text/plain": [
       "Posted On            object\n",
       "BHK                   int64\n",
       "Rent                  int64\n",
       "Size                  int64\n",
       "Floor                object\n",
       "Area Type            object\n",
       "Area Locality        object\n",
       "City                 object\n",
       "Furnishing Status    object\n",
       "Tenant Preferred     object\n",
       "Bathroom              int64\n",
       "Point of Contact     object\n",
       "dtype: object"
      ]
     },
     "execution_count": 39,
     "metadata": {},
     "output_type": "execute_result"
    }
   ],
   "source": [
    "\"\"\"Identificamos el tipo de variable de cada columna\"\"\"\n",
    "dt.dtypes"
   ]
  },
  {
   "cell_type": "code",
   "execution_count": 40,
   "id": "a2f003c9",
   "metadata": {
    "execution": {
     "iopub.execute_input": "2022-11-13T12:52:15.613406Z",
     "iopub.status.busy": "2022-11-13T12:52:15.612830Z",
     "iopub.status.idle": "2022-11-13T12:52:15.638829Z",
     "shell.execute_reply": "2022-11-13T12:52:15.636888Z"
    },
    "papermill": {
     "duration": 0.038416,
     "end_time": "2022-11-13T12:52:15.642427",
     "exception": false,
     "start_time": "2022-11-13T12:52:15.604011",
     "status": "completed"
    },
    "tags": []
   },
   "outputs": [
    {
     "name": "stdout",
     "output_type": "stream",
     "text": [
      "<class 'pandas.core.frame.DataFrame'>\n",
      "RangeIndex: 4746 entries, 0 to 4745\n",
      "Data columns (total 12 columns):\n",
      " #   Column             Non-Null Count  Dtype \n",
      "---  ------             --------------  ----- \n",
      " 0   Posted On          4746 non-null   object\n",
      " 1   BHK                4746 non-null   int64 \n",
      " 2   Rent               4746 non-null   int64 \n",
      " 3   Size               4746 non-null   int64 \n",
      " 4   Floor              4746 non-null   object\n",
      " 5   Area Type          4746 non-null   object\n",
      " 6   Area Locality      4746 non-null   object\n",
      " 7   City               4746 non-null   object\n",
      " 8   Furnishing Status  4746 non-null   object\n",
      " 9   Tenant Preferred   4746 non-null   object\n",
      " 10  Bathroom           4746 non-null   int64 \n",
      " 11  Point of Contact   4746 non-null   object\n",
      "dtypes: int64(4), object(8)\n",
      "memory usage: 445.1+ KB\n"
     ]
    }
   ],
   "source": [
    "\"\"\"Analizamos la informacion del set de datos\"\"\"\n",
    "dt.info()"
   ]
  },
  {
   "cell_type": "code",
   "execution_count": 41,
   "id": "fa59fee8",
   "metadata": {
    "execution": {
     "iopub.execute_input": "2022-11-13T12:52:15.658045Z",
     "iopub.status.busy": "2022-11-13T12:52:15.657596Z",
     "iopub.status.idle": "2022-11-13T12:52:15.669334Z",
     "shell.execute_reply": "2022-11-13T12:52:15.668357Z"
    },
    "papermill": {
     "duration": 0.022852,
     "end_time": "2022-11-13T12:52:15.671896",
     "exception": false,
     "start_time": "2022-11-13T12:52:15.649044",
     "status": "completed"
    },
    "tags": []
   },
   "outputs": [
    {
     "data": {
      "text/plain": [
       "Posted On            0\n",
       "BHK                  0\n",
       "Rent                 0\n",
       "Size                 0\n",
       "Floor                0\n",
       "Area Type            0\n",
       "Area Locality        0\n",
       "City                 0\n",
       "Furnishing Status    0\n",
       "Tenant Preferred     0\n",
       "Bathroom             0\n",
       "Point of Contact     0\n",
       "dtype: int64"
      ]
     },
     "execution_count": 41,
     "metadata": {},
     "output_type": "execute_result"
    }
   ],
   "source": [
    "\"\"\"Revisamos si existen datos nulos\"\"\"\n",
    "dt.isnull().sum()"
   ]
  },
  {
   "cell_type": "code",
   "execution_count": 42,
   "id": "5a13afc7",
   "metadata": {
    "execution": {
     "iopub.execute_input": "2022-11-13T12:52:15.687592Z",
     "iopub.status.busy": "2022-11-13T12:52:15.686891Z",
     "iopub.status.idle": "2022-11-13T12:52:15.714827Z",
     "shell.execute_reply": "2022-11-13T12:52:15.713437Z"
    },
    "papermill": {
     "duration": 0.039422,
     "end_time": "2022-11-13T12:52:15.718082",
     "exception": false,
     "start_time": "2022-11-13T12:52:15.678660",
     "status": "completed"
    },
    "tags": []
   },
   "outputs": [
    {
     "data": {
      "text/html": [
       "<div>\n",
       "<style scoped>\n",
       "    .dataframe tbody tr th:only-of-type {\n",
       "        vertical-align: middle;\n",
       "    }\n",
       "\n",
       "    .dataframe tbody tr th {\n",
       "        vertical-align: top;\n",
       "    }\n",
       "\n",
       "    .dataframe thead th {\n",
       "        text-align: right;\n",
       "    }\n",
       "</style>\n",
       "<table border=\"1\" class=\"dataframe\">\n",
       "  <thead>\n",
       "    <tr style=\"text-align: right;\">\n",
       "      <th></th>\n",
       "      <th>BHK</th>\n",
       "      <th>Rent</th>\n",
       "      <th>Size</th>\n",
       "      <th>Bathroom</th>\n",
       "    </tr>\n",
       "  </thead>\n",
       "  <tbody>\n",
       "    <tr>\n",
       "      <th>count</th>\n",
       "      <td>4746.000000</td>\n",
       "      <td>4.746000e+03</td>\n",
       "      <td>4746.000000</td>\n",
       "      <td>4746.000000</td>\n",
       "    </tr>\n",
       "    <tr>\n",
       "      <th>mean</th>\n",
       "      <td>2.083860</td>\n",
       "      <td>3.499345e+04</td>\n",
       "      <td>967.490729</td>\n",
       "      <td>1.965866</td>\n",
       "    </tr>\n",
       "    <tr>\n",
       "      <th>std</th>\n",
       "      <td>0.832256</td>\n",
       "      <td>7.810641e+04</td>\n",
       "      <td>634.202328</td>\n",
       "      <td>0.884532</td>\n",
       "    </tr>\n",
       "    <tr>\n",
       "      <th>min</th>\n",
       "      <td>1.000000</td>\n",
       "      <td>1.200000e+03</td>\n",
       "      <td>10.000000</td>\n",
       "      <td>1.000000</td>\n",
       "    </tr>\n",
       "    <tr>\n",
       "      <th>25%</th>\n",
       "      <td>2.000000</td>\n",
       "      <td>1.000000e+04</td>\n",
       "      <td>550.000000</td>\n",
       "      <td>1.000000</td>\n",
       "    </tr>\n",
       "    <tr>\n",
       "      <th>50%</th>\n",
       "      <td>2.000000</td>\n",
       "      <td>1.600000e+04</td>\n",
       "      <td>850.000000</td>\n",
       "      <td>2.000000</td>\n",
       "    </tr>\n",
       "    <tr>\n",
       "      <th>75%</th>\n",
       "      <td>3.000000</td>\n",
       "      <td>3.300000e+04</td>\n",
       "      <td>1200.000000</td>\n",
       "      <td>2.000000</td>\n",
       "    </tr>\n",
       "    <tr>\n",
       "      <th>max</th>\n",
       "      <td>6.000000</td>\n",
       "      <td>3.500000e+06</td>\n",
       "      <td>8000.000000</td>\n",
       "      <td>10.000000</td>\n",
       "    </tr>\n",
       "  </tbody>\n",
       "</table>\n",
       "</div>"
      ],
      "text/plain": [
       "               BHK          Rent         Size     Bathroom\n",
       "count  4746.000000  4.746000e+03  4746.000000  4746.000000\n",
       "mean      2.083860  3.499345e+04   967.490729     1.965866\n",
       "std       0.832256  7.810641e+04   634.202328     0.884532\n",
       "min       1.000000  1.200000e+03    10.000000     1.000000\n",
       "25%       2.000000  1.000000e+04   550.000000     1.000000\n",
       "50%       2.000000  1.600000e+04   850.000000     2.000000\n",
       "75%       3.000000  3.300000e+04  1200.000000     2.000000\n",
       "max       6.000000  3.500000e+06  8000.000000    10.000000"
      ]
     },
     "execution_count": 42,
     "metadata": {},
     "output_type": "execute_result"
    }
   ],
   "source": [
    "\"\"\"Usamos la funcion describe para saber los minimos, maximos, desviacion estadar, y porcentajes de los datos\"\"\"\n",
    "dt.describe()"
   ]
  },
  {
   "cell_type": "code",
   "execution_count": 43,
   "id": "6713a05b",
   "metadata": {
    "execution": {
     "iopub.execute_input": "2022-11-13T12:52:15.734972Z",
     "iopub.status.busy": "2022-11-13T12:52:15.734163Z",
     "iopub.status.idle": "2022-11-13T12:52:16.434217Z",
     "shell.execute_reply": "2022-11-13T12:52:16.432965Z"
    },
    "papermill": {
     "duration": 0.711925,
     "end_time": "2022-11-13T12:52:16.436868",
     "exception": false,
     "start_time": "2022-11-13T12:52:15.724943",
     "status": "completed"
    },
    "tags": []
   },
   "outputs": [
    {
     "name": "stderr",
     "output_type": "stream",
     "text": [
      "C:\\Users\\Stefano\\AppData\\Local\\Temp\\ipykernel_3692\\3825150344.py:6: UserWarning: To output multiple subplots, the figure containing the passed axes is being cleared.\n",
      "  dt.hist(ax = ax)\n"
     ]
    },
    {
     "data": {
      "image/png": "[encoded data removed]",
      "text/plain": [
       "<Figure size 720x720 with 4 Axes>"
      ]
     },
     "metadata": {
      "needs_background": "light"
     },
     "output_type": "display_data"
    }
   ],
   "source": [
    "\"\"\"Graficamos las columnas para ver la distribucion de los mismos\"\"\"\n",
    "import matplotlib.pyplot as plt\n",
    "\n",
    "fig = plt.figure(figsize = (10,10))\n",
    "ax = fig.gca()\n",
    "dt.hist(ax = ax)\n",
    "plt.show()"
   ]
  },
  {
   "cell_type": "code",
   "execution_count": 44,
   "id": "658a03a1",
   "metadata": {
    "execution": {
     "iopub.execute_input": "2022-11-13T12:52:16.453871Z",
     "iopub.status.busy": "2022-11-13T12:52:16.453470Z",
     "iopub.status.idle": "2022-11-13T12:52:17.880112Z",
     "shell.execute_reply": "2022-11-13T12:52:17.878708Z"
    },
    "papermill": {
     "duration": 1.438083,
     "end_time": "2022-11-13T12:52:17.883120",
     "exception": false,
     "start_time": "2022-11-13T12:52:16.445037",
     "status": "completed"
    },
    "tags": []
   },
   "outputs": [
    {
     "data": {
      "image/png": "[encoded data removed]",
      "text/plain": [
       "<Figure size 720x720 with 2 Axes>"
      ]
     },
     "metadata": {
      "needs_background": "light"
     },
     "output_type": "display_data"
    }
   ],
   "source": [
    "\"\"\"Graficamos las correlacion de los datos\"\"\"\n",
    "import seaborn as sns\n",
    "cor = dt.corr()\n",
    "plt.figure(figsize=(10,10))\n",
    "ax = sns.heatmap(cor, vmax=1, square=True, annot=True, cmap='viridis')\n",
    "plt.title(\"Matriz de correlacion\")\n",
    "plt.show()"
   ]
  },
  {
   "cell_type": "markdown",
   "id": "35e3fada",
   "metadata": {
    "papermill": {
     "duration": 0.006992,
     "end_time": "2022-11-13T12:52:17.897449",
     "exception": false,
     "start_time": "2022-11-13T12:52:17.890457",
     "status": "completed"
    },
    "tags": []
   },
   "source": [
    "# Preprocesamiento"
   ]
  },
  {
   "cell_type": "code",
   "execution_count": 45,
   "id": "aca7e376",
   "metadata": {
    "execution": {
     "iopub.execute_input": "2022-11-13T12:52:17.914877Z",
     "iopub.status.busy": "2022-11-13T12:52:17.914450Z",
     "iopub.status.idle": "2022-11-13T12:52:17.926343Z",
     "shell.execute_reply": "2022-11-13T12:52:17.924683Z"
    },
    "papermill": {
     "duration": 0.023793,
     "end_time": "2022-11-13T12:52:17.929401",
     "exception": false,
     "start_time": "2022-11-13T12:52:17.905608",
     "status": "completed"
    },
    "tags": []
   },
   "outputs": [],
   "source": [
    "\"\"\"Convertimos Post On a un formato fecha\"\"\"\n",
    "dt[\"Posted On\"] = pd.to_datetime(dt['Posted On'])"
   ]
  },
  {
   "cell_type": "code",
   "execution_count": 47,
   "id": "5b74ed03",
   "metadata": {
    "execution": {
     "iopub.execute_input": "2022-11-13T12:52:18.139445Z",
     "iopub.status.busy": "2022-11-13T12:52:18.139042Z",
     "iopub.status.idle": "2022-11-13T12:52:18.148787Z",
     "shell.execute_reply": "2022-11-13T12:52:18.147576Z"
    },
    "papermill": {
     "duration": 0.021548,
     "end_time": "2022-11-13T12:52:18.151448",
     "exception": false,
     "start_time": "2022-11-13T12:52:18.129900",
     "status": "completed"
    },
    "tags": []
   },
   "outputs": [],
   "source": [
    "\"\"\"Eliminamos los datos que puedan traer ruido al modelo\"\"\"\n",
    "dt.drop(columns = [\"Floor\", \"Area Locality\"], inplace = True)\n",
    "dt.drop(columns = \"Posted On\", inplace = True)"
   ]
  },
  {
   "cell_type": "code",
   "execution_count": 48,
   "id": "22e1f907",
   "metadata": {
    "execution": {
     "iopub.execute_input": "2022-11-13T12:52:18.167984Z",
     "iopub.status.busy": "2022-11-13T12:52:18.167574Z",
     "iopub.status.idle": "2022-11-13T12:52:18.173415Z",
     "shell.execute_reply": "2022-11-13T12:52:18.172034Z"
    },
    "papermill": {
     "duration": 0.01695,
     "end_time": "2022-11-13T12:52:18.175865",
     "exception": false,
     "start_time": "2022-11-13T12:52:18.158915",
     "status": "completed"
    },
    "tags": []
   },
   "outputs": [],
   "source": [
    "\"\"\"Pasamos nuestros datos a un array\"\"\"\n",
    "array = dt.values\n",
    "X = array[:, 0:7]\n",
    "\"\"\"En la Y colocamos la columna que se quiere predecir\"\"\"\n",
    "Y = array[:, 3]"
   ]
  },
  {
   "cell_type": "code",
   "execution_count": 49,
   "id": "e6516974",
   "metadata": {
    "execution": {
     "iopub.execute_input": "2022-11-13T12:52:18.192924Z",
     "iopub.status.busy": "2022-11-13T12:52:18.192488Z",
     "iopub.status.idle": "2022-11-13T12:52:18.200930Z",
     "shell.execute_reply": "2022-11-13T12:52:18.199785Z"
    },
    "papermill": {
     "duration": 0.020107,
     "end_time": "2022-11-13T12:52:18.203660",
     "exception": false,
     "start_time": "2022-11-13T12:52:18.183553",
     "status": "completed"
    },
    "tags": []
   },
   "outputs": [],
   "source": [
    "\"\"\"Estandarizamos y Escalamos nuestros datos\"\"\"\n",
    "from sklearn.preprocessing import MinMaxScaler\n",
    "from sklearn.preprocessing import StandardScaler\n",
    "\n",
    "sta = StandardScaler()\n",
    "rescaledX = sta.fit_transform(X)\n",
    "\n",
    "X = rescaledX"
   ]
  },
  {
   "cell_type": "markdown",
   "id": "5e16e1b5",
   "metadata": {
    "papermill": {
     "duration": 0.007498,
     "end_time": "2022-11-13T12:52:18.218869",
     "exception": false,
     "start_time": "2022-11-13T12:52:18.211371",
     "status": "completed"
    },
    "tags": []
   },
   "source": [
    "# Modelado"
   ]
  },
  {
   "cell_type": "markdown",
   "id": "c42560fe",
   "metadata": {},
   "source": [
    "Provamos que algoritmos se adaptan mejor a nuestros datos"
   ]
  },
  {
   "cell_type": "code",
   "execution_count": 50,
   "id": "0875738d",
   "metadata": {
    "execution": {
     "iopub.execute_input": "2022-11-13T12:52:18.235665Z",
     "iopub.status.busy": "2022-11-13T12:52:18.235263Z",
     "iopub.status.idle": "2022-11-13T12:52:26.412068Z",
     "shell.execute_reply": "2022-11-13T12:52:26.409927Z"
    },
    "papermill": {
     "duration": 8.190082,
     "end_time": "2022-11-13T12:52:26.416361",
     "exception": false,
     "start_time": "2022-11-13T12:52:18.226279",
     "status": "completed"
    },
    "tags": []
   },
   "outputs": [
    {
     "name": "stdout",
     "output_type": "stream",
     "text": [
      "ElN: -27.97 (42.96)\n",
      "LS: -28.16 (42.88)\n",
      "LR: 100.00 (0.00)\n",
      "RiG: 100.00 (0.00)\n",
      "KR: 99.37 (0.61)\n",
      "SVR: 97.93 (0.78)\n"
     ]
    }
   ],
   "source": [
    "from sklearn.linear_model import ElasticNet\n",
    "from sklearn.linear_model import Lasso\n",
    "from sklearn.linear_model import LinearRegression\n",
    "from sklearn.linear_model import Ridge\n",
    "from sklearn.tree import DecisionTreeRegressor\n",
    "from sklearn.neighbors import KNeighborsRegressor\n",
    "from sklearn.svm import SVR\n",
    "from sklearn.model_selection import train_test_split\n",
    "from sklearn.model_selection import cross_val_score\n",
    "from sklearn.model_selection import KFold\n",
    "from sklearn.metrics import r2_score\n",
    "\n",
    "\"\"\"Creamos una lista y metemos cada uno de los modelos a usar\"\"\"\n",
    "models = []\n",
    "models.append(('ElN', ElasticNet()))\n",
    "models.append(('LS', Lasso()))\n",
    "models.append(('LR', LinearRegression()))\n",
    "models.append(('RiG', Ridge()))\n",
    "models.append(('KR', KNeighborsRegressor()))\n",
    "models.append(('SVR',  SVR()))\n",
    "\n",
    "results = []\n",
    "names = []\n",
    "scoring = 'accuracy'\n",
    "\"\"\"Creamos un bucle que recorra la lista de modelos y nombres\"\"\"\n",
    "for name, model in models:\n",
    "    \"\"\"Entrenamos nuestro modelo\"\"\"\n",
    "    kfold = KFold(n_splits=10)\n",
    "    \"\"\"Calculamos el porcentaje de la prediccion\"\"\"\n",
    "    result =  cross_val_score(model, X, Y,  cv=kfold)\n",
    "    results.append(result)\n",
    "    names.append(name)\n",
    "    print(f\"{name}: {result.mean()*100.0:,.2f} ({result.std()*100.0:,.2f})\")"
   ]
  },
  {
   "cell_type": "code",
   "execution_count": 51,
   "id": "f795650b",
   "metadata": {
    "execution": {
     "iopub.execute_input": "2022-11-13T12:52:26.434751Z",
     "iopub.status.busy": "2022-11-13T12:52:26.434345Z",
     "iopub.status.idle": "2022-11-13T12:52:26.447840Z",
     "shell.execute_reply": "2022-11-13T12:52:26.446122Z"
    },
    "papermill": {
     "duration": 0.029352,
     "end_time": "2022-11-13T12:52:26.454056",
     "exception": false,
     "start_time": "2022-11-13T12:52:26.424704",
     "status": "completed"
    },
    "tags": []
   },
   "outputs": [
    {
     "name": "stdout",
     "output_type": "stream",
     "text": [
      "Score: 0.9999997904659964\n"
     ]
    }
   ],
   "source": [
    "\"\"\"Usamos el algoritmo que mejor se adapte para hacer la prediccion\"\"\"\n",
    "X_train, X_test, y_train, y_test = train_test_split(X, Y, test_size=0.50 )\n",
    "rdg = Ridge()\n",
    "rdg.fit(X_train, y_train)\n",
    "predicted = rdg.predict(X_test)\n",
    "score =r2_score(y_test, predicted)\n",
    "print(f\"Score: {score}\")"
   ]
  },
  {
   "cell_type": "code",
   "execution_count": 70,
   "id": "cc1d7e0b",
   "metadata": {},
   "outputs": [
    {
     "data": {
      "text/html": [
       "<div>\n",
       "<style scoped>\n",
       "    .dataframe tbody tr th:only-of-type {\n",
       "        vertical-align: middle;\n",
       "    }\n",
       "\n",
       "    .dataframe tbody tr th {\n",
       "        vertical-align: top;\n",
       "    }\n",
       "\n",
       "    .dataframe thead th {\n",
       "        text-align: right;\n",
       "    }\n",
       "</style>\n",
       "<table border=\"1\" class=\"dataframe\">\n",
       "  <thead>\n",
       "    <tr style=\"text-align: right;\">\n",
       "      <th></th>\n",
       "      <th>Predicted</th>\n",
       "    </tr>\n",
       "  </thead>\n",
       "  <tbody>\n",
       "    <tr>\n",
       "      <th>0</th>\n",
       "      <td>1.000389</td>\n",
       "    </tr>\n",
       "    <tr>\n",
       "      <th>1</th>\n",
       "      <td>1.999733</td>\n",
       "    </tr>\n",
       "    <tr>\n",
       "      <th>2</th>\n",
       "      <td>1.999858</td>\n",
       "    </tr>\n",
       "    <tr>\n",
       "      <th>3</th>\n",
       "      <td>1.999775</td>\n",
       "    </tr>\n",
       "    <tr>\n",
       "      <th>4</th>\n",
       "      <td>1.999752</td>\n",
       "    </tr>\n",
       "    <tr>\n",
       "      <th>5</th>\n",
       "      <td>1.999719</td>\n",
       "    </tr>\n",
       "    <tr>\n",
       "      <th>6</th>\n",
       "      <td>1.000290</td>\n",
       "    </tr>\n",
       "    <tr>\n",
       "      <th>7</th>\n",
       "      <td>1.999732</td>\n",
       "    </tr>\n",
       "    <tr>\n",
       "      <th>8</th>\n",
       "      <td>1.999750</td>\n",
       "    </tr>\n",
       "    <tr>\n",
       "      <th>9</th>\n",
       "      <td>1.999921</td>\n",
       "    </tr>\n",
       "  </tbody>\n",
       "</table>\n",
       "</div>"
      ],
      "text/plain": [
       "   Predicted\n",
       "0   1.000389\n",
       "1   1.999733\n",
       "2   1.999858\n",
       "3   1.999775\n",
       "4   1.999752\n",
       "5   1.999719\n",
       "6   1.000290\n",
       "7   1.999732\n",
       "8   1.999750\n",
       "9   1.999921"
      ]
     },
     "execution_count": 70,
     "metadata": {},
     "output_type": "execute_result"
    }
   ],
   "source": [
    "data = rdg.predict(X_test)\n",
    "dataframe = pd.DataFrame(data, columns = [\"Predicted\"])\n",
    "dataframe.head(10)"
   ]
  },
  {
   "cell_type": "markdown",
   "id": "92d70125",
   "metadata": {},
   "source": [
    "# Conclusion\n",
    "\n",
    "En conclusion obtuvimos muy buenos resultados de los modelos provados anteriormente en especial en los modelos de Linear Regresion, Ridge, KNeighborsRegressor y SVR.Podemos concluir que el set de datos entregado dio la suficiente informacion a nuestro modelo para predecir el precio de la ventas."
   ]
  }
 ],
 "metadata": {
  "kernelspec": {
   "display_name": "Python 3.10.5 64-bit",
   "language": "python",
   "name": "python3"
  },
  "language_info": {
   "codemirror_mode": {
    "name": "ipython",
    "version": 3
   },
   "file_extension": ".py",
   "mimetype": "text/x-python",
   "name": "python",
   "nbconvert_exporter": "python",
   "pygments_lexer": "ipython3",
   "version": "3.10.5 (tags/v3.10.5:f377153, Jun  6 2022, 16:14:13) [MSC v.1929 64 bit (AMD64)]"
  },
  "papermill": {
   "default_parameters": {},
   "duration": 21.680148,
   "end_time": "2022-11-13T12:52:27.402236",
   "environment_variables": {},
   "exception": null,
   "input_path": "__notebook__.ipynb",
   "output_path": "__notebook__.ipynb",
   "parameters": {},
   "start_time": "2022-11-13T12:52:05.722088",
   "version": "2.3.4"
  },
  "vscode": {
   "interpreter": {
    "hash": "4f217b72210ac49a97bd56229deb01e32e3113fa6c6f0c48edb9aa5bcc3c8034"
   }
  }
 },
 "nbformat": 4,
 "nbformat_minor": 5
}
