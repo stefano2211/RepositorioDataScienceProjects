{
 "cells": [
  {
   "cell_type": "code",
   "execution_count": 14,
   "id": "40497c34",
   "metadata": {
    "_cell_guid": "b1076dfc-b9ad-4769-8c92-a6c4dae69d19",
    "_uuid": "8f2839f25d086af736a60e9eeb907d3b93b6e0e5",
    "execution": {
     "iopub.execute_input": "2022-11-13T12:40:35.866665Z",
     "iopub.status.busy": "2022-11-13T12:40:35.866164Z",
     "iopub.status.idle": "2022-11-13T12:40:37.190745Z",
     "shell.execute_reply": "2022-11-13T12:40:37.189449Z"
    },
    "papermill": {
     "duration": 1.339405,
     "end_time": "2022-11-13T12:40:37.193504",
     "exception": false,
     "start_time": "2022-11-13T12:40:35.854099",
     "status": "completed"
    },
    "tags": []
   },
   "outputs": [],
   "source": [
    "# This Python 3 environment comes with many helpful analytics libraries installed\n",
    "# It is defined by the kaggle/python Docker image: https://github.com/kaggle/docker-python\n",
    "# For example, here's several helpful packages to load\n",
    "\n",
    "import numpy as np # linear algebra\n",
    "import pandas as pd # data processing, CSV file I/O (e.g. pd.read_csv)\n",
    "import matplotlib.pyplot as plt\n",
    "import seaborn as sns\n",
    "from mpl_toolkits.mplot3d import Axes3D\n",
    "# Input data files are available in the read-only \"../input/\" directory\n",
    "# For example, running this (by clicking run or pressing Shift+Enter) will list all files under the input directory\n",
    "\n",
    "import os\n",
    "for dirname, _, filenames in os.walk('/kaggle/input'):\n",
    "    for filename in filenames:\n",
    "        print(os.path.join(dirname, filename))\n",
    "\n",
    "# You can write up to 20GB to the current directory (/kaggle/working/) that gets preserved as output when you create a version using \"Save & Run All\" \n",
    "# You can also write temporary files to /kaggle/temp/, but they won't be saved outside of the current session"
   ]
  },
  {
   "cell_type": "markdown",
   "id": "3a58b55a",
   "metadata": {
    "papermill": {
     "duration": 0.008953,
     "end_time": "2022-11-13T12:40:37.211166",
     "exception": false,
     "start_time": "2022-11-13T12:40:37.202213",
     "status": "completed"
    },
    "tags": []
   },
   "source": [
    "# Importamos el CSV"
   ]
  },
  {
   "cell_type": "code",
   "execution_count": 15,
   "id": "fd2894db",
   "metadata": {
    "execution": {
     "iopub.execute_input": "2022-11-13T12:40:37.230064Z",
     "iopub.status.busy": "2022-11-13T12:40:37.229319Z",
     "iopub.status.idle": "2022-11-13T12:40:38.709028Z",
     "shell.execute_reply": "2022-11-13T12:40:38.707807Z"
    },
    "papermill": {
     "duration": 1.49226,
     "end_time": "2022-11-13T12:40:38.711956",
     "exception": false,
     "start_time": "2022-11-13T12:40:37.219696",
     "status": "completed"
    },
    "tags": []
   },
   "outputs": [],
   "source": [
    "\"\"\"Cargamos el set de datos\"\"\"\n",
    "df = pd.read_csv('Datasets/online_shoppers_intention.csv', encoding = 'unicode_escape')"
   ]
  },
  {
   "cell_type": "markdown",
   "id": "c088795a",
   "metadata": {
    "papermill": {
     "duration": 0.008047,
     "end_time": "2022-11-13T12:40:38.728696",
     "exception": false,
     "start_time": "2022-11-13T12:40:38.720649",
     "status": "completed"
    },
    "tags": []
   },
   "source": [
    "# Visualizacion de los datos"
   ]
  },
  {
   "cell_type": "code",
   "execution_count": 16,
   "id": "d512ef4a",
   "metadata": {
    "execution": {
     "iopub.execute_input": "2022-11-13T12:40:38.747084Z",
     "iopub.status.busy": "2022-11-13T12:40:38.746693Z",
     "iopub.status.idle": "2022-11-13T12:40:38.773363Z",
     "shell.execute_reply": "2022-11-13T12:40:38.772484Z"
    },
    "papermill": {
     "duration": 0.038307,
     "end_time": "2022-11-13T12:40:38.775395",
     "exception": false,
     "start_time": "2022-11-13T12:40:38.737088",
     "status": "completed"
    },
    "tags": []
   },
   "outputs": [
    {
     "data": {
      "text/html": [
       "<div>\n",
       "<style scoped>\n",
       "    .dataframe tbody tr th:only-of-type {\n",
       "        vertical-align: middle;\n",
       "    }\n",
       "\n",
       "    .dataframe tbody tr th {\n",
       "        vertical-align: top;\n",
       "    }\n",
       "\n",
       "    .dataframe thead th {\n",
       "        text-align: right;\n",
       "    }\n",
       "</style>\n",
       "<table border=\"1\" class=\"dataframe\">\n",
       "  <thead>\n",
       "    <tr style=\"text-align: right;\">\n",
       "      <th></th>\n",
       "      <th>Administrative</th>\n",
       "      <th>Administrative_Duration</th>\n",
       "      <th>Informational</th>\n",
       "      <th>Informational_Duration</th>\n",
       "      <th>ProductRelated</th>\n",
       "      <th>ProductRelated_Duration</th>\n",
       "      <th>BounceRates</th>\n",
       "      <th>ExitRates</th>\n",
       "      <th>PageValues</th>\n",
       "      <th>SpecialDay</th>\n",
       "      <th>Month</th>\n",
       "      <th>OperatingSystems</th>\n",
       "      <th>Browser</th>\n",
       "      <th>Region</th>\n",
       "      <th>TrafficType</th>\n",
       "      <th>VisitorType</th>\n",
       "      <th>Weekend</th>\n",
       "      <th>Revenue</th>\n",
       "    </tr>\n",
       "  </thead>\n",
       "  <tbody>\n",
       "    <tr>\n",
       "      <th>0</th>\n",
       "      <td>0</td>\n",
       "      <td>0.0</td>\n",
       "      <td>0</td>\n",
       "      <td>0.0</td>\n",
       "      <td>1</td>\n",
       "      <td>0.000000</td>\n",
       "      <td>0.20</td>\n",
       "      <td>0.20</td>\n",
       "      <td>0.0</td>\n",
       "      <td>0.0</td>\n",
       "      <td>Feb</td>\n",
       "      <td>1</td>\n",
       "      <td>1</td>\n",
       "      <td>1</td>\n",
       "      <td>1</td>\n",
       "      <td>Returning_Visitor</td>\n",
       "      <td>False</td>\n",
       "      <td>False</td>\n",
       "    </tr>\n",
       "    <tr>\n",
       "      <th>1</th>\n",
       "      <td>0</td>\n",
       "      <td>0.0</td>\n",
       "      <td>0</td>\n",
       "      <td>0.0</td>\n",
       "      <td>2</td>\n",
       "      <td>64.000000</td>\n",
       "      <td>0.00</td>\n",
       "      <td>0.10</td>\n",
       "      <td>0.0</td>\n",
       "      <td>0.0</td>\n",
       "      <td>Feb</td>\n",
       "      <td>2</td>\n",
       "      <td>2</td>\n",
       "      <td>1</td>\n",
       "      <td>2</td>\n",
       "      <td>Returning_Visitor</td>\n",
       "      <td>False</td>\n",
       "      <td>False</td>\n",
       "    </tr>\n",
       "    <tr>\n",
       "      <th>2</th>\n",
       "      <td>0</td>\n",
       "      <td>0.0</td>\n",
       "      <td>0</td>\n",
       "      <td>0.0</td>\n",
       "      <td>1</td>\n",
       "      <td>0.000000</td>\n",
       "      <td>0.20</td>\n",
       "      <td>0.20</td>\n",
       "      <td>0.0</td>\n",
       "      <td>0.0</td>\n",
       "      <td>Feb</td>\n",
       "      <td>4</td>\n",
       "      <td>1</td>\n",
       "      <td>9</td>\n",
       "      <td>3</td>\n",
       "      <td>Returning_Visitor</td>\n",
       "      <td>False</td>\n",
       "      <td>False</td>\n",
       "    </tr>\n",
       "    <tr>\n",
       "      <th>3</th>\n",
       "      <td>0</td>\n",
       "      <td>0.0</td>\n",
       "      <td>0</td>\n",
       "      <td>0.0</td>\n",
       "      <td>2</td>\n",
       "      <td>2.666667</td>\n",
       "      <td>0.05</td>\n",
       "      <td>0.14</td>\n",
       "      <td>0.0</td>\n",
       "      <td>0.0</td>\n",
       "      <td>Feb</td>\n",
       "      <td>3</td>\n",
       "      <td>2</td>\n",
       "      <td>2</td>\n",
       "      <td>4</td>\n",
       "      <td>Returning_Visitor</td>\n",
       "      <td>False</td>\n",
       "      <td>False</td>\n",
       "    </tr>\n",
       "    <tr>\n",
       "      <th>4</th>\n",
       "      <td>0</td>\n",
       "      <td>0.0</td>\n",
       "      <td>0</td>\n",
       "      <td>0.0</td>\n",
       "      <td>10</td>\n",
       "      <td>627.500000</td>\n",
       "      <td>0.02</td>\n",
       "      <td>0.05</td>\n",
       "      <td>0.0</td>\n",
       "      <td>0.0</td>\n",
       "      <td>Feb</td>\n",
       "      <td>3</td>\n",
       "      <td>3</td>\n",
       "      <td>1</td>\n",
       "      <td>4</td>\n",
       "      <td>Returning_Visitor</td>\n",
       "      <td>True</td>\n",
       "      <td>False</td>\n",
       "    </tr>\n",
       "  </tbody>\n",
       "</table>\n",
       "</div>"
      ],
      "text/plain": [
       "   Administrative  Administrative_Duration  Informational  \\\n",
       "0               0                      0.0              0   \n",
       "1               0                      0.0              0   \n",
       "2               0                      0.0              0   \n",
       "3               0                      0.0              0   \n",
       "4               0                      0.0              0   \n",
       "\n",
       "   Informational_Duration  ProductRelated  ProductRelated_Duration  \\\n",
       "0                     0.0               1                 0.000000   \n",
       "1                     0.0               2                64.000000   \n",
       "2                     0.0               1                 0.000000   \n",
       "3                     0.0               2                 2.666667   \n",
       "4                     0.0              10               627.500000   \n",
       "\n",
       "   BounceRates  ExitRates  PageValues  SpecialDay Month  OperatingSystems  \\\n",
       "0         0.20       0.20         0.0         0.0   Feb                 1   \n",
       "1         0.00       0.10         0.0         0.0   Feb                 2   \n",
       "2         0.20       0.20         0.0         0.0   Feb                 4   \n",
       "3         0.05       0.14         0.0         0.0   Feb                 3   \n",
       "4         0.02       0.05         0.0         0.0   Feb                 3   \n",
       "\n",
       "   Browser  Region  TrafficType        VisitorType  Weekend  Revenue  \n",
       "0        1       1            1  Returning_Visitor    False    False  \n",
       "1        2       1            2  Returning_Visitor    False    False  \n",
       "2        1       9            3  Returning_Visitor    False    False  \n",
       "3        2       2            4  Returning_Visitor    False    False  \n",
       "4        3       1            4  Returning_Visitor     True    False  "
      ]
     },
     "execution_count": 16,
     "metadata": {},
     "output_type": "execute_result"
    }
   ],
   "source": [
    "\"\"\"Visualizamos los datos\"\"\"\n",
    "df.head()"
   ]
  },
  {
   "cell_type": "code",
   "execution_count": 17,
   "id": "b2d77b5a",
   "metadata": {
    "execution": {
     "iopub.execute_input": "2022-11-13T12:40:38.796492Z",
     "iopub.status.busy": "2022-11-13T12:40:38.795735Z",
     "iopub.status.idle": "2022-11-13T12:40:38.802651Z",
     "shell.execute_reply": "2022-11-13T12:40:38.801222Z"
    },
    "papermill": {
     "duration": 0.019894,
     "end_time": "2022-11-13T12:40:38.805425",
     "exception": false,
     "start_time": "2022-11-13T12:40:38.785531",
     "status": "completed"
    },
    "tags": []
   },
   "outputs": [
    {
     "data": {
      "text/plain": [
       "(12330, 18)"
      ]
     },
     "execution_count": 17,
     "metadata": {},
     "output_type": "execute_result"
    }
   ],
   "source": [
    "\"\"\"Las dimensiones del set de datos\"\"\"\n",
    "df.shape"
   ]
  },
  {
   "cell_type": "code",
   "execution_count": 18,
   "id": "6ee87143",
   "metadata": {
    "execution": {
     "iopub.execute_input": "2022-11-13T12:40:38.824984Z",
     "iopub.status.busy": "2022-11-13T12:40:38.824566Z",
     "iopub.status.idle": "2022-11-13T12:40:38.970552Z",
     "shell.execute_reply": "2022-11-13T12:40:38.969039Z"
    },
    "papermill": {
     "duration": 0.158753,
     "end_time": "2022-11-13T12:40:38.973161",
     "exception": false,
     "start_time": "2022-11-13T12:40:38.814408",
     "status": "completed"
    },
    "tags": []
   },
   "outputs": [
    {
     "name": "stdout",
     "output_type": "stream",
     "text": [
      "<class 'pandas.core.frame.DataFrame'>\n",
      "RangeIndex: 12330 entries, 0 to 12329\n",
      "Data columns (total 18 columns):\n",
      " #   Column                   Non-Null Count  Dtype  \n",
      "---  ------                   --------------  -----  \n",
      " 0   Administrative           12330 non-null  int64  \n",
      " 1   Administrative_Duration  12330 non-null  float64\n",
      " 2   Informational            12330 non-null  int64  \n",
      " 3   Informational_Duration   12330 non-null  float64\n",
      " 4   ProductRelated           12330 non-null  int64  \n",
      " 5   ProductRelated_Duration  12330 non-null  float64\n",
      " 6   BounceRates              12330 non-null  float64\n",
      " 7   ExitRates                12330 non-null  float64\n",
      " 8   PageValues               12330 non-null  float64\n",
      " 9   SpecialDay               12330 non-null  float64\n",
      " 10  Month                    12330 non-null  object \n",
      " 11  OperatingSystems         12330 non-null  int64  \n",
      " 12  Browser                  12330 non-null  int64  \n",
      " 13  Region                   12330 non-null  int64  \n",
      " 14  TrafficType              12330 non-null  int64  \n",
      " 15  VisitorType              12330 non-null  object \n",
      " 16  Weekend                  12330 non-null  bool   \n",
      " 17  Revenue                  12330 non-null  bool   \n",
      "dtypes: bool(2), float64(7), int64(7), object(2)\n",
      "memory usage: 1.5+ MB\n"
     ]
    }
   ],
   "source": [
    "\"\"\"Resumen de los datos\"\"\"\n",
    "df.info()"
   ]
  },
  {
   "cell_type": "code",
   "execution_count": 21,
   "id": "63633a02",
   "metadata": {
    "execution": {
     "iopub.execute_input": "2022-11-13T12:40:38.992815Z",
     "iopub.status.busy": "2022-11-13T12:40:38.992399Z",
     "iopub.status.idle": "2022-11-13T12:40:39.118153Z",
     "shell.execute_reply": "2022-11-13T12:40:39.116987Z"
    },
    "papermill": {
     "duration": 0.139014,
     "end_time": "2022-11-13T12:40:39.121259",
     "exception": false,
     "start_time": "2022-11-13T12:40:38.982245",
     "status": "completed"
    },
    "tags": []
   },
   "outputs": [
    {
     "data": {
      "text/plain": [
       "Administrative             0\n",
       "Administrative_Duration    0\n",
       "Informational              0\n",
       "Informational_Duration     0\n",
       "ProductRelated             0\n",
       "ProductRelated_Duration    0\n",
       "BounceRates                0\n",
       "ExitRates                  0\n",
       "PageValues                 0\n",
       "SpecialDay                 0\n",
       "Month                      0\n",
       "OperatingSystems           0\n",
       "Browser                    0\n",
       "Region                     0\n",
       "TrafficType                0\n",
       "VisitorType                0\n",
       "Weekend                    0\n",
       "Revenue                    0\n",
       "dtype: int64"
      ]
     },
     "execution_count": 21,
     "metadata": {},
     "output_type": "execute_result"
    }
   ],
   "source": [
    "\"\"\"Revision de datos corruptos\"\"\"\n",
    "df.isna().sum()"
   ]
  },
  {
   "cell_type": "code",
   "execution_count": null,
   "id": "9575472a",
   "metadata": {
    "execution": {
     "iopub.execute_input": "2022-11-13T12:40:39.460355Z",
     "iopub.status.busy": "2022-11-13T12:40:39.459302Z",
     "iopub.status.idle": "2022-11-13T12:40:39.560795Z",
     "shell.execute_reply": "2022-11-13T12:40:39.559334Z"
    },
    "papermill": {
     "duration": 0.115666,
     "end_time": "2022-11-13T12:40:39.563878",
     "exception": false,
     "start_time": "2022-11-13T12:40:39.448212",
     "status": "completed"
    },
    "tags": []
   },
   "outputs": [
    {
     "data": {
      "text/html": [
       "<div>\n",
       "<style scoped>\n",
       "    .dataframe tbody tr th:only-of-type {\n",
       "        vertical-align: middle;\n",
       "    }\n",
       "\n",
       "    .dataframe tbody tr th {\n",
       "        vertical-align: top;\n",
       "    }\n",
       "\n",
       "    .dataframe thead th {\n",
       "        text-align: right;\n",
       "    }\n",
       "</style>\n",
       "<table border=\"1\" class=\"dataframe\">\n",
       "  <thead>\n",
       "    <tr style=\"text-align: right;\">\n",
       "      <th></th>\n",
       "      <th>Quantity</th>\n",
       "      <th>UnitPrice</th>\n",
       "      <th>CustomerID</th>\n",
       "    </tr>\n",
       "  </thead>\n",
       "  <tbody>\n",
       "    <tr>\n",
       "      <th>count</th>\n",
       "      <td>541909.000000</td>\n",
       "      <td>541909.000000</td>\n",
       "      <td>406829.000000</td>\n",
       "    </tr>\n",
       "    <tr>\n",
       "      <th>mean</th>\n",
       "      <td>9.552250</td>\n",
       "      <td>4.611114</td>\n",
       "      <td>15287.690570</td>\n",
       "    </tr>\n",
       "    <tr>\n",
       "      <th>std</th>\n",
       "      <td>218.081158</td>\n",
       "      <td>96.759853</td>\n",
       "      <td>1713.600303</td>\n",
       "    </tr>\n",
       "    <tr>\n",
       "      <th>min</th>\n",
       "      <td>-80995.000000</td>\n",
       "      <td>-11062.060000</td>\n",
       "      <td>12346.000000</td>\n",
       "    </tr>\n",
       "    <tr>\n",
       "      <th>25%</th>\n",
       "      <td>1.000000</td>\n",
       "      <td>1.250000</td>\n",
       "      <td>13953.000000</td>\n",
       "    </tr>\n",
       "    <tr>\n",
       "      <th>50%</th>\n",
       "      <td>3.000000</td>\n",
       "      <td>2.080000</td>\n",
       "      <td>15152.000000</td>\n",
       "    </tr>\n",
       "    <tr>\n",
       "      <th>75%</th>\n",
       "      <td>10.000000</td>\n",
       "      <td>4.130000</td>\n",
       "      <td>16791.000000</td>\n",
       "    </tr>\n",
       "    <tr>\n",
       "      <th>max</th>\n",
       "      <td>80995.000000</td>\n",
       "      <td>38970.000000</td>\n",
       "      <td>18287.000000</td>\n",
       "    </tr>\n",
       "  </tbody>\n",
       "</table>\n",
       "</div>"
      ],
      "text/plain": [
       "            Quantity      UnitPrice     CustomerID\n",
       "count  541909.000000  541909.000000  406829.000000\n",
       "mean        9.552250       4.611114   15287.690570\n",
       "std       218.081158      96.759853    1713.600303\n",
       "min    -80995.000000  -11062.060000   12346.000000\n",
       "25%         1.000000       1.250000   13953.000000\n",
       "50%         3.000000       2.080000   15152.000000\n",
       "75%        10.000000       4.130000   16791.000000\n",
       "max     80995.000000   38970.000000   18287.000000"
      ]
     },
     "execution_count": 9,
     "metadata": {},
     "output_type": "execute_result"
    }
   ],
   "source": [
    "\"\"\"Usamos describe para revisar los valores de los datos\"\"\"\n",
    "df.describe()"
   ]
  },
  {
   "cell_type": "code",
   "execution_count": null,
   "id": "4c53dcd6",
   "metadata": {
    "execution": {
     "iopub.execute_input": "2022-11-13T12:40:39.585970Z",
     "iopub.status.busy": "2022-11-13T12:40:39.585552Z",
     "iopub.status.idle": "2022-11-13T12:40:40.326567Z",
     "shell.execute_reply": "2022-11-13T12:40:40.324960Z"
    },
    "papermill": {
     "duration": 0.755115,
     "end_time": "2022-11-13T12:40:40.328992",
     "exception": false,
     "start_time": "2022-11-13T12:40:39.573877",
     "status": "completed"
    },
    "tags": []
   },
   "outputs": [
    {
     "name": "stderr",
     "output_type": "stream",
     "text": [
      "/opt/conda/lib/python3.7/site-packages/ipykernel_launcher.py:3: UserWarning: To output multiple subplots, the figure containing the passed axes is being cleared\n",
      "  This is separate from the ipykernel package so we can avoid doing imports until\n"
     ]
    },
    {
     "data": {
      "image/png": "[encoded data removed]",
      "text/plain": [
       "<Figure size 1440x1440 with 4 Axes>"
      ]
     },
     "metadata": {
      "needs_background": "light"
     },
     "output_type": "display_data"
    }
   ],
   "source": [
    "\"\"\"Distribucion de los datos\"\"\"\n",
    "fig = plt.figure(figsize = (20,20))\n",
    "ax = fig.gca()\n",
    "df.hist(ax = ax)\n",
    "plt.show()"
   ]
  },
  {
   "cell_type": "code",
   "execution_count": null,
   "id": "86771653",
   "metadata": {
    "execution": {
     "iopub.execute_input": "2022-11-13T12:40:40.351987Z",
     "iopub.status.busy": "2022-11-13T12:40:40.351593Z",
     "iopub.status.idle": "2022-11-13T12:40:40.726824Z",
     "shell.execute_reply": "2022-11-13T12:40:40.725640Z"
    },
    "papermill": {
     "duration": 0.389866,
     "end_time": "2022-11-13T12:40:40.729885",
     "exception": false,
     "start_time": "2022-11-13T12:40:40.340019",
     "status": "completed"
    },
    "tags": []
   },
   "outputs": [
    {
     "data": {
      "image/png": "[encoded data removed]",
      "text/plain": [
       "<Figure size 1440x1440 with 2 Axes>"
      ]
     },
     "metadata": {
      "needs_background": "light"
     },
     "output_type": "display_data"
    }
   ],
   "source": [
    "\"\"\"Matriz de correlacion de los datos\"\"\"\n",
    "cor = df.corr()\n",
    "plt.figure(figsize=(20,20))\n",
    "ax = sns.heatmap(cor, vmax=1, square=True, annot=True, cmap='viridis')\n",
    "plt.title(\"Matriz de correlacion\")\n",
    "plt.show()"
   ]
  },
  {
   "cell_type": "markdown",
   "id": "88ea00c2",
   "metadata": {
    "papermill": {
     "duration": 0.0158,
     "end_time": "2022-11-13T12:42:30.341866",
     "exception": false,
     "start_time": "2022-11-13T12:42:30.326066",
     "status": "completed"
    },
    "tags": []
   },
   "source": [
    "# Preprocesamiento"
   ]
  },
  {
   "cell_type": "code",
   "execution_count": null,
   "id": "beae82bd",
   "metadata": {
    "execution": {
     "iopub.execute_input": "2022-11-13T12:42:30.367383Z",
     "iopub.status.busy": "2022-11-13T12:42:30.366941Z",
     "iopub.status.idle": "2022-11-13T12:42:30.382281Z",
     "shell.execute_reply": "2022-11-13T12:42:30.381161Z"
    },
    "papermill": {
     "duration": 0.031038,
     "end_time": "2022-11-13T12:42:30.384760",
     "exception": false,
     "start_time": "2022-11-13T12:42:30.353722",
     "status": "completed"
    },
    "tags": []
   },
   "outputs": [
    {
     "data": {
      "text/html": [
       "<div>\n",
       "<style scoped>\n",
       "    .dataframe tbody tr th:only-of-type {\n",
       "        vertical-align: middle;\n",
       "    }\n",
       "\n",
       "    .dataframe tbody tr th {\n",
       "        vertical-align: top;\n",
       "    }\n",
       "\n",
       "    .dataframe thead th {\n",
       "        text-align: right;\n",
       "    }\n",
       "</style>\n",
       "<table border=\"1\" class=\"dataframe\">\n",
       "  <thead>\n",
       "    <tr style=\"text-align: right;\">\n",
       "      <th></th>\n",
       "      <th>InvoiceNo</th>\n",
       "      <th>StockCode</th>\n",
       "      <th>Description</th>\n",
       "      <th>Quantity</th>\n",
       "      <th>InvoiceDate</th>\n",
       "      <th>UnitPrice</th>\n",
       "      <th>CustomerID</th>\n",
       "      <th>Country</th>\n",
       "    </tr>\n",
       "  </thead>\n",
       "  <tbody>\n",
       "    <tr>\n",
       "      <th>0</th>\n",
       "      <td>536365</td>\n",
       "      <td>85123A</td>\n",
       "      <td>WHITE HANGING HEART T-LIGHT HOLDER</td>\n",
       "      <td>6</td>\n",
       "      <td>01-12-2010 08:26</td>\n",
       "      <td>2.55</td>\n",
       "      <td>17850.0</td>\n",
       "      <td>United Kingdom</td>\n",
       "    </tr>\n",
       "    <tr>\n",
       "      <th>1</th>\n",
       "      <td>536365</td>\n",
       "      <td>71053</td>\n",
       "      <td>WHITE METAL LANTERN</td>\n",
       "      <td>6</td>\n",
       "      <td>01-12-2010 08:26</td>\n",
       "      <td>3.39</td>\n",
       "      <td>17850.0</td>\n",
       "      <td>United Kingdom</td>\n",
       "    </tr>\n",
       "    <tr>\n",
       "      <th>2</th>\n",
       "      <td>536365</td>\n",
       "      <td>84406B</td>\n",
       "      <td>CREAM CUPID HEARTS COAT HANGER</td>\n",
       "      <td>8</td>\n",
       "      <td>01-12-2010 08:26</td>\n",
       "      <td>2.75</td>\n",
       "      <td>17850.0</td>\n",
       "      <td>United Kingdom</td>\n",
       "    </tr>\n",
       "    <tr>\n",
       "      <th>3</th>\n",
       "      <td>536365</td>\n",
       "      <td>84029G</td>\n",
       "      <td>KNITTED UNION FLAG HOT WATER BOTTLE</td>\n",
       "      <td>6</td>\n",
       "      <td>01-12-2010 08:26</td>\n",
       "      <td>3.39</td>\n",
       "      <td>17850.0</td>\n",
       "      <td>United Kingdom</td>\n",
       "    </tr>\n",
       "    <tr>\n",
       "      <th>4</th>\n",
       "      <td>536365</td>\n",
       "      <td>84029E</td>\n",
       "      <td>RED WOOLLY HOTTIE WHITE HEART.</td>\n",
       "      <td>6</td>\n",
       "      <td>01-12-2010 08:26</td>\n",
       "      <td>3.39</td>\n",
       "      <td>17850.0</td>\n",
       "      <td>United Kingdom</td>\n",
       "    </tr>\n",
       "  </tbody>\n",
       "</table>\n",
       "</div>"
      ],
      "text/plain": [
       "  InvoiceNo StockCode                          Description  Quantity  \\\n",
       "0    536365    85123A   WHITE HANGING HEART T-LIGHT HOLDER         6   \n",
       "1    536365     71053                  WHITE METAL LANTERN         6   \n",
       "2    536365    84406B       CREAM CUPID HEARTS COAT HANGER         8   \n",
       "3    536365    84029G  KNITTED UNION FLAG HOT WATER BOTTLE         6   \n",
       "4    536365    84029E       RED WOOLLY HOTTIE WHITE HEART.         6   \n",
       "\n",
       "        InvoiceDate  UnitPrice  CustomerID         Country  \n",
       "0  01-12-2010 08:26       2.55     17850.0  United Kingdom  \n",
       "1  01-12-2010 08:26       3.39     17850.0  United Kingdom  \n",
       "2  01-12-2010 08:26       2.75     17850.0  United Kingdom  \n",
       "3  01-12-2010 08:26       3.39     17850.0  United Kingdom  \n",
       "4  01-12-2010 08:26       3.39     17850.0  United Kingdom  "
      ]
     },
     "execution_count": 18,
     "metadata": {},
     "output_type": "execute_result"
    }
   ],
   "source": [
    "df.head()"
   ]
  },
  {
   "cell_type": "code",
   "execution_count": null,
   "id": "6944f12c",
   "metadata": {
    "execution": {
     "iopub.execute_input": "2022-11-13T12:42:30.410604Z",
     "iopub.status.busy": "2022-11-13T12:42:30.410203Z",
     "iopub.status.idle": "2022-11-13T12:42:30.439521Z",
     "shell.execute_reply": "2022-11-13T12:42:30.438370Z"
    },
    "papermill": {
     "duration": 0.045409,
     "end_time": "2022-11-13T12:42:30.442272",
     "exception": false,
     "start_time": "2022-11-13T12:42:30.396863",
     "status": "completed"
    },
    "tags": []
   },
   "outputs": [],
   "source": [
    "\"\"\"Eliminamos Description, InvoiceDate y CustomerId\"\"\"\n",
    "cut = df.drop(columns = ['Description', 'InvoiceDate', 'CustomerID'])"
   ]
  },
  {
   "cell_type": "code",
   "execution_count": null,
   "id": "ee2aab89",
   "metadata": {
    "execution": {
     "iopub.execute_input": "2022-11-13T12:42:30.468926Z",
     "iopub.status.busy": "2022-11-13T12:42:30.468209Z",
     "iopub.status.idle": "2022-11-13T12:42:31.120680Z",
     "shell.execute_reply": "2022-11-13T12:42:31.119603Z"
    },
    "papermill": {
     "duration": 0.668853,
     "end_time": "2022-11-13T12:42:31.123317",
     "exception": false,
     "start_time": "2022-11-13T12:42:30.454464",
     "status": "completed"
    },
    "tags": []
   },
   "outputs": [],
   "source": [
    "\"\"\"Usamos labelencoder para tranformar nuestro datos en str a numericos\"\"\"\n",
    "from sklearn import preprocessing\n",
    "\n",
    "encoder = preprocessing.LabelEncoder()\n",
    "cut['Country'] = encoder.fit_transform(cut['Country'])\n",
    "cut['InvoiceNo'] = encoder.fit_transform(cut['InvoiceNo'])\n",
    "cut['StockCode'] = encoder.fit_transform(cut['StockCode'])"
   ]
  },
  {
   "cell_type": "code",
   "execution_count": null,
   "id": "7faa314c",
   "metadata": {
    "execution": {
     "iopub.execute_input": "2022-11-13T12:42:31.149508Z",
     "iopub.status.busy": "2022-11-13T12:42:31.149085Z",
     "iopub.status.idle": "2022-11-13T12:42:31.153842Z",
     "shell.execute_reply": "2022-11-13T12:42:31.153003Z"
    },
    "papermill": {
     "duration": 0.020292,
     "end_time": "2022-11-13T12:42:31.155983",
     "exception": false,
     "start_time": "2022-11-13T12:42:31.135691",
     "status": "completed"
    },
    "tags": []
   },
   "outputs": [],
   "source": [
    "cut.shape\n",
    "dt = cut"
   ]
  },
  {
   "cell_type": "code",
   "execution_count": null,
   "id": "e23014fd",
   "metadata": {
    "execution": {
     "iopub.execute_input": "2022-11-13T12:42:31.182160Z",
     "iopub.status.busy": "2022-11-13T12:42:31.181507Z",
     "iopub.status.idle": "2022-11-13T12:42:31.205580Z",
     "shell.execute_reply": "2022-11-13T12:42:31.204695Z"
    },
    "papermill": {
     "duration": 0.040288,
     "end_time": "2022-11-13T12:42:31.208283",
     "exception": false,
     "start_time": "2022-11-13T12:42:31.167995",
     "status": "completed"
    },
    "tags": []
   },
   "outputs": [],
   "source": [
    "\"\"\"Convertimos nuestro datos a un array\"\"\"\n",
    "array = dt.values\n",
    "X = array[:, 0:4]"
   ]
  },
  {
   "cell_type": "code",
   "execution_count": null,
   "id": "87b19d25",
   "metadata": {
    "execution": {
     "iopub.execute_input": "2022-11-13T12:42:31.235247Z",
     "iopub.status.busy": "2022-11-13T12:42:31.234616Z",
     "iopub.status.idle": "2022-11-13T12:42:31.287942Z",
     "shell.execute_reply": "2022-11-13T12:42:31.287115Z"
    },
    "papermill": {
     "duration": 0.069723,
     "end_time": "2022-11-13T12:42:31.290567",
     "exception": false,
     "start_time": "2022-11-13T12:42:31.220844",
     "status": "completed"
    },
    "tags": []
   },
   "outputs": [],
   "source": [
    "\"\"\"Preprocesamos los datos con un Standar Scaler y una normalizacion\"\"\"\n",
    "from sklearn.preprocessing import MinMaxScaler\n",
    "from sklearn.preprocessing import StandardScaler\n",
    "\n",
    "scaler = MinMaxScaler(feature_range=(0,1))\n",
    "rescalerX = scaler.fit_transform(X)\n",
    "\n",
    "estandar = StandardScaler().fit(rescalerX)\n",
    "estandarX = estandar.transform(rescalerX)\n",
    "\n",
    "X = estandarX"
   ]
  },
  {
   "cell_type": "markdown",
   "id": "b9b2645a",
   "metadata": {
    "papermill": {
     "duration": 0.011902,
     "end_time": "2022-11-13T12:42:31.314900",
     "exception": false,
     "start_time": "2022-11-13T12:42:31.302998",
     "status": "completed"
    },
    "tags": []
   },
   "source": [
    "# Clusters"
   ]
  },
  {
   "cell_type": "code",
   "execution_count": null,
   "id": "0b7660d1",
   "metadata": {
    "execution": {
     "iopub.execute_input": "2022-11-13T12:42:31.342307Z",
     "iopub.status.busy": "2022-11-13T12:42:31.341675Z",
     "iopub.status.idle": "2022-11-13T12:42:31.656661Z",
     "shell.execute_reply": "2022-11-13T12:42:31.655189Z"
    },
    "papermill": {
     "duration": 0.331479,
     "end_time": "2022-11-13T12:42:31.659376",
     "exception": false,
     "start_time": "2022-11-13T12:42:31.327897",
     "status": "completed"
    },
    "tags": []
   },
   "outputs": [],
   "source": [
    "\"\"\"Importamos Kmeans\"\"\"\n",
    "from sklearn.cluster import KMeans"
   ]
  },
  {
   "cell_type": "code",
   "execution_count": null,
   "id": "d1643394",
   "metadata": {
    "execution": {
     "iopub.execute_input": "2022-11-13T12:42:31.686399Z",
     "iopub.status.busy": "2022-11-13T12:42:31.685542Z",
     "iopub.status.idle": "2022-11-13T12:42:31.693452Z",
     "shell.execute_reply": "2022-11-13T12:42:31.692172Z"
    },
    "papermill": {
     "duration": 0.023908,
     "end_time": "2022-11-13T12:42:31.695922",
     "exception": false,
     "start_time": "2022-11-13T12:42:31.672014",
     "status": "completed"
    },
    "tags": []
   },
   "outputs": [],
   "source": [
    "\"\"\"Creamos una funcion que reciba los datos y el numeros de clusters que tenga\"\"\"\n",
    "def get_clusters(data, max_kmeans):\n",
    "    \"\"\"Se crean dos listas\"\"\"\n",
    "    inertias = []\n",
    "    means = []\n",
    "\n",
    "    \"\"\"Se recorre desde el 1 hasta el numero que se le pase por la funcion\"\"\"\n",
    "    for i in range(1, max_kmeans):\n",
    "        kmeans = KMeans(n_clusters=i ,max_iter = 300, random_state=0).fit(data)\n",
    "        \"\"\"Se mete la informacion en means\"\"\"\n",
    "        means.append(i)\n",
    "        inertias.append(kmeans.inertia_)\n",
    "    \n",
    "    fig = plt.subplots(figsize = (10,5))\n",
    "    plt.plot(means, inertias, 'o-')\n",
    "    plt.xlabel('Numero de clusters')\n",
    "    plt.ylabel('Inertias')\n",
    "    plt.grid(True)\n",
    "    plt.show()"
   ]
  },
  {
   "cell_type": "code",
   "execution_count": null,
   "id": "bd2fc620",
   "metadata": {
    "execution": {
     "iopub.execute_input": "2022-11-13T12:42:31.722246Z",
     "iopub.status.busy": "2022-11-13T12:42:31.721576Z",
     "iopub.status.idle": "2022-11-13T12:43:49.439527Z",
     "shell.execute_reply": "2022-11-13T12:43:49.437866Z"
    },
    "papermill": {
     "duration": 77.745875,
     "end_time": "2022-11-13T12:43:49.453895",
     "exception": false,
     "start_time": "2022-11-13T12:42:31.708020",
     "status": "completed"
    },
    "tags": []
   },
   "outputs": [
    {
     "data": {
      "image/png": "[encoded data removed]",
      "text/plain": [
       "<Figure size 720x360 with 1 Axes>"
      ]
     },
     "metadata": {
      "needs_background": "light"
     },
     "output_type": "display_data"
    }
   ],
   "source": [
    "\"\"\"A la funcion le pasamos el set de datos mas el numero de clusters\"\"\"\n",
    "get_clusters(X, 12)"
   ]
  },
  {
   "cell_type": "code",
   "execution_count": null,
   "id": "e91eb747",
   "metadata": {
    "execution": {
     "iopub.execute_input": "2022-11-13T12:43:49.481573Z",
     "iopub.status.busy": "2022-11-13T12:43:49.481167Z",
     "iopub.status.idle": "2022-11-13T12:43:56.821833Z",
     "shell.execute_reply": "2022-11-13T12:43:56.820800Z"
    },
    "papermill": {
     "duration": 7.358247,
     "end_time": "2022-11-13T12:43:56.824828",
     "exception": false,
     "start_time": "2022-11-13T12:43:49.466581",
     "status": "completed"
    },
    "tags": []
   },
   "outputs": [],
   "source": [
    "\"\"\"Usamos kmeans y definimos el numero de clusters, en este caso 6\"\"\"\n",
    "clustering = KMeans(n_clusters=6, random_state=0).fit(X)\n",
    "label = clustering.predict(X)\n",
    "center = clustering.cluster_centers_"
   ]
  },
  {
   "cell_type": "code",
   "execution_count": null,
   "id": "a44fa310",
   "metadata": {
    "execution": {
     "iopub.execute_input": "2022-11-13T12:43:56.857357Z",
     "iopub.status.busy": "2022-11-13T12:43:56.856815Z",
     "iopub.status.idle": "2022-11-13T12:43:56.873315Z",
     "shell.execute_reply": "2022-11-13T12:43:56.871958Z"
    },
    "papermill": {
     "duration": 0.034559,
     "end_time": "2022-11-13T12:43:56.875965",
     "exception": false,
     "start_time": "2022-11-13T12:43:56.841406",
     "status": "completed"
    },
    "tags": []
   },
   "outputs": [
    {
     "data": {
      "text/html": [
       "<div>\n",
       "<style scoped>\n",
       "    .dataframe tbody tr th:only-of-type {\n",
       "        vertical-align: middle;\n",
       "    }\n",
       "\n",
       "    .dataframe tbody tr th {\n",
       "        vertical-align: top;\n",
       "    }\n",
       "\n",
       "    .dataframe thead th {\n",
       "        text-align: right;\n",
       "    }\n",
       "</style>\n",
       "<table border=\"1\" class=\"dataframe\">\n",
       "  <thead>\n",
       "    <tr style=\"text-align: right;\">\n",
       "      <th></th>\n",
       "      <th>InvoiceNo</th>\n",
       "      <th>StockCode</th>\n",
       "      <th>Quantity</th>\n",
       "      <th>UnitPrice</th>\n",
       "      <th>Country</th>\n",
       "      <th>Cluster</th>\n",
       "    </tr>\n",
       "  </thead>\n",
       "  <tbody>\n",
       "    <tr>\n",
       "      <th>0</th>\n",
       "      <td>0</td>\n",
       "      <td>3536</td>\n",
       "      <td>6</td>\n",
       "      <td>2.55</td>\n",
       "      <td>36</td>\n",
       "      <td>0</td>\n",
       "    </tr>\n",
       "    <tr>\n",
       "      <th>1</th>\n",
       "      <td>0</td>\n",
       "      <td>2794</td>\n",
       "      <td>6</td>\n",
       "      <td>3.39</td>\n",
       "      <td>36</td>\n",
       "      <td>0</td>\n",
       "    </tr>\n",
       "    <tr>\n",
       "      <th>2</th>\n",
       "      <td>0</td>\n",
       "      <td>3044</td>\n",
       "      <td>8</td>\n",
       "      <td>2.75</td>\n",
       "      <td>36</td>\n",
       "      <td>0</td>\n",
       "    </tr>\n",
       "    <tr>\n",
       "      <th>3</th>\n",
       "      <td>0</td>\n",
       "      <td>2985</td>\n",
       "      <td>6</td>\n",
       "      <td>3.39</td>\n",
       "      <td>36</td>\n",
       "      <td>0</td>\n",
       "    </tr>\n",
       "    <tr>\n",
       "      <th>4</th>\n",
       "      <td>0</td>\n",
       "      <td>2984</td>\n",
       "      <td>6</td>\n",
       "      <td>3.39</td>\n",
       "      <td>36</td>\n",
       "      <td>0</td>\n",
       "    </tr>\n",
       "  </tbody>\n",
       "</table>\n",
       "</div>"
      ],
      "text/plain": [
       "   InvoiceNo  StockCode  Quantity  UnitPrice  Country  Cluster\n",
       "0          0       3536         6       2.55       36        0\n",
       "1          0       2794         6       3.39       36        0\n",
       "2          0       3044         8       2.75       36        0\n",
       "3          0       2985         6       3.39       36        0\n",
       "4          0       2984         6       3.39       36        0"
      ]
     },
     "execution_count": 28,
     "metadata": {},
     "output_type": "execute_result"
    }
   ],
   "source": [
    "dt['Cluster'] = clustering.labels_\n",
    "dt.head()"
   ]
  },
  {
   "cell_type": "markdown",
   "id": "3f5c5386",
   "metadata": {
    "papermill": {
     "duration": 0.013055,
     "end_time": "2022-11-13T12:43:56.902950",
     "exception": false,
     "start_time": "2022-11-13T12:43:56.889895",
     "status": "completed"
    },
    "tags": []
   },
   "source": [
    "# Modelado"
   ]
  },
  {
   "cell_type": "code",
   "execution_count": null,
   "id": "0d1b04a3",
   "metadata": {
    "execution": {
     "iopub.execute_input": "2022-11-13T12:43:56.931489Z",
     "iopub.status.busy": "2022-11-13T12:43:56.930366Z",
     "iopub.status.idle": "2022-11-13T12:43:56.938692Z",
     "shell.execute_reply": "2022-11-13T12:43:56.937686Z"
    },
    "papermill": {
     "duration": 0.025457,
     "end_time": "2022-11-13T12:43:56.941325",
     "exception": false,
     "start_time": "2022-11-13T12:43:56.915868",
     "status": "completed"
    },
    "tags": []
   },
   "outputs": [],
   "source": [
    "\"\"\"Graficamos\"\"\"\n",
    "from sklearn.metrics import pairwise_distances_argmin\n",
    "\n",
    "def find_clusters(X, n_clusters, rseed=2):\n",
    "    # 1. Randomly choose clusters\n",
    "    rng = np.random.RandomState(rseed)\n",
    "    i = rng.permutation(X.shape[0])[:n_clusters]\n",
    "    centers = X[i]\n",
    "    \n",
    "    while True:\n",
    "        # 2a. Assign labels based on closest center\n",
    "        labels = pairwise_distances_argmin(X, centers)\n",
    "        \n",
    "        # 2b. Find new centers from means of points\n",
    "        new_centers = np.array([X[labels == i].mean(0)\n",
    "                                for i in range(n_clusters)])\n",
    "        \n",
    "        # 2c. Check for convergence\n",
    "        if np.all(centers == new_centers):\n",
    "            break\n",
    "        centers = new_centers\n",
    "    \n",
    "    return centers, labels\n"
   ]
  },
  {
   "cell_type": "code",
   "execution_count": null,
   "id": "e859b672",
   "metadata": {
    "execution": {
     "iopub.execute_input": "2022-11-13T12:43:56.971613Z",
     "iopub.status.busy": "2022-11-13T12:43:56.970660Z",
     "iopub.status.idle": "2022-11-13T12:44:28.876631Z",
     "shell.execute_reply": "2022-11-13T12:44:28.875436Z"
    },
    "papermill": {
     "duration": 31.936657,
     "end_time": "2022-11-13T12:44:28.892225",
     "exception": false,
     "start_time": "2022-11-13T12:43:56.955568",
     "status": "completed"
    },
    "tags": []
   },
   "outputs": [
    {
     "data": {
      "image/png": "[encoded data removed]",
      "text/plain": [
       "<Figure size 432x288 with 1 Axes>"
      ]
     },
     "metadata": {
      "needs_background": "light"
     },
     "output_type": "display_data"
    }
   ],
   "source": [
    "centers, labels = find_clusters(X, 6, rseed=0)\n",
    "plt.scatter(X[:, 0], X[:, 1], c=labels,\n",
    "            s=50, cmap='viridis');"
   ]
  }
 ],
 "metadata": {
  "kernelspec": {
   "display_name": "Python 3.10.5 64-bit",
   "language": "python",
   "name": "python3"
  },
  "language_info": {
   "codemirror_mode": {
    "name": "ipython",
    "version": 3
   },
   "file_extension": ".py",
   "mimetype": "text/x-python",
   "name": "python",
   "nbconvert_exporter": "python",
   "pygments_lexer": "ipython3",
   "version": "3.10.5 (tags/v3.10.5:f377153, Jun  6 2022, 16:14:13) [MSC v.1929 64 bit (AMD64)]"
  },
  "papermill": {
   "default_parameters": {},
   "duration": 243.571176,
   "end_time": "2022-11-13T12:44:29.828626",
   "environment_variables": {},
   "exception": null,
   "input_path": "__notebook__.ipynb",
   "output_path": "__notebook__.ipynb",
   "parameters": {},
   "start_time": "2022-11-13T12:40:26.257450",
   "version": "2.3.4"
  },
  "vscode": {
   "interpreter": {
    "hash": "4f217b72210ac49a97bd56229deb01e32e3113fa6c6f0c48edb9aa5bcc3c8034"
   }
  }
 },
 "nbformat": 4,
 "nbformat_minor": 5
}
